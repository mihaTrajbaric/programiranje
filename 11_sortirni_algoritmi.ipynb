{
 "cells": [
  {
   "attachments": {},
   "cell_type": "markdown",
   "metadata": {},
   "source": [
    "# Sortirni algoritmi\n",
    "\n",
    "Na krožku smo povsem sledili tutorialu [Real Python: Sorting Algorithms in Python](https://realpython.com/sorting-algorithms-python)."
   ]
  }
 ],
 "metadata": {
  "language_info": {
   "name": "python"
  },
  "orig_nbformat": 4
 },
 "nbformat": 4,
 "nbformat_minor": 2
}
