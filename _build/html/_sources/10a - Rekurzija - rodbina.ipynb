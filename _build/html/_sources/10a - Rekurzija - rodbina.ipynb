{
 "cells": [
  {
   "cell_type": "markdown",
   "metadata": {},
   "source": [
    "# Rekurzivne funkcije\n",
    "\n",
    "Tole niso ravno zapiski predavanj. V njih ni ničesar o tem, kaj je pravzaprav *rekurzivna funkcija*. Se pravi, ničesar o tem, da lahko funkcije kličejo same sebe. Tu je povzetek, tistega, kar se dogaja in kar programiramo na predavanjih. Za potrebe ponavljanja in učenja bi moralo zadoščati.\n",
    "\n",
    "## Kaj se dogaja med predavanji\n",
    "\n",
    "V letih, ko ravno ni nobene epidemije, na teh predavanjih navadno igramo s študenti takole igro.\n",
    "\n",
    "Določeno število študentov dobi listke s svojim imenom, svojo starostjo in imeni svojih otrok. Jaz jim potem zastavljam različna vprašanja, oni pa se lahko sprašujejo med sabo. Po Zoomu to najbrž gre, vendar ... bomo videli.\n",
    "\n",
    "Dogovorimo se za nekaj pravil:\n",
    "\n",
    "- Ko vas nekdo nekaj vpraša, mu odgovorite – njemu. Dokler mu ne odgovorite,\n",
    "  stojite (na Zoomu ... pač ne).\n",
    "\n",
    "- Po potrebi lahko za to, da boste \"sestavili odgovor\" kaj vprašate druge –\n",
    "  navadno svoje otroke. Pri tem vedno sprašujete samo enega naenkrat, tako da\n",
    "  poveste njegovo ime in vprašanje. Vprašanje lahko izpustimo, če gre za\n",
    "  enako vprašanje, kot ste ga pravkar zastavili komu drugemu ali pa ga je\n",
    "  kdo pravkar zastavil vam.\n",
    "\n",
    "- Da bodo stvari lepše tekle, se dogovorimo še, da morate spraševati svoje\n",
    "  otroke v takšnem vrstnem redu, kot so napisani na listu.\n",
    "  \n",
    "- Vsak sliši samo odgovore, ki so namenjeni njemu. Predstavljajte si, da si\n",
    "  pošiljamo listke.\n",
    "  \n",
    "- Ko odgovorite temu, ki vas je nekaj vprašal, pozabite odgovor. (Vendar\n",
    "  šele takrat: dokler zbirate informacije, potrebne za odgovor, le-teh\n",
    "  seveda ne pozabite.) Če vas kasneje vpraša kaj podobnega (ali celo isto),\n",
    "  morate odgovor pridobivati ponovno. Vse vaše trajno \"znanje\" je to, kar piše na\n",
    "  listku – vaše ime in imena vaših otrok.\n",
    "  \n",
    "\n",
    "## Novakovi\n",
    "\n",
    "Najstarejši član rodbine Novakovih, Adam, 111 let, ima štiri otroke: Matjaža, Cilko, Danieka in Erika. Matjaž ima enega, namreč Viljema. Danijel ima Elizabeto in Hansa (kasneje se je Daniel namreč preselil v predmestje Graza, kjer ima manjše podjetje, in se poročil z Avstrijko), Cilka in Erik pa nimata otrok. In tako naprej. Vse skupaj je nabrano v spodnjem slovarju."
   ]
  },
  {
   "cell_type": "code",
   "execution_count": 1,
   "metadata": {},
   "outputs": [],
   "source": [
    "otroci = {\n",
    "    \"Adam\": [\"Matjaž\", \"Cilka\", \"Daniel\"],\n",
    "    \"Aleksander\": [],\n",
    "    \"Alenka\": [],\n",
    "    \"Barbara\": [],\n",
    "    \"Cilka\": [],\n",
    "    \"Daniel\": [\"Elizabeta\", \"Hans\"],\n",
    "    \"Erik\": [],\n",
    "    \"Elizabeta\": [\"Ludvik\", \"Jurij\", \"Barbara\"],\n",
    "    \"Franc\": [],\n",
    "    \"Herman\": [\"Margareta\"],\n",
    "    \"Hans\": [\"Herman\", \"Erik\"],\n",
    "    \"Jožef\": [\"Alenka\", \"Aleksander\", \"Petra\"],\n",
    "    \"Jurij\": [\"Franc\", \"Jožef\"],\n",
    "    \"Ludvik\": [],\n",
    "    \"Margareta\": [],\n",
    "    \"Matjaž\": [\"Viljem\"],\n",
    "    \"Petra\": [],\n",
    "    \"Tadeja\": [],\n",
    "    \"Viljem\": [\"Tadeja\"],\n",
    "}"
   ]
  },
  {
   "cell_type": "markdown",
   "metadata": {},
   "source": [
    "Znane so tudi starosti vseh teh ljudi. V teh zapiskih jih sicer ne bomo potrebovali, uporabne pa so za kakšne druge naloge."
   ]
  },
  {
   "cell_type": "code",
   "execution_count": 2,
   "metadata": {},
   "outputs": [],
   "source": [
    "starost = {\n",
    "    \"Adam\": 111, \"Matjaž\": 90, \"Cilka\": 88, \"Daniel\": 85, \"Erik\": 83,\n",
    "    \"Viljem\": 58, \"Tadeja\": 20, \"Elizabeta\": 68, \"Hans\": 64, \"Ludvik\": 50,\n",
    "    \"Jurij\": 49, \"Barbara\": 45, \"Herman\": 39, \"Mihael\": 32, \"Franc\": 30,\n",
    "    \"Jožef\": 29, \"Margareta\": 3, \"Alenka\": 9, \"Aleksander\": 5, \"Petra\": 7}"
   ]
  },
  {
   "cell_type": "markdown",
   "metadata": {},
   "source": [
    "Celoten rodovnik je takšen (vendar tega študenti, vsaj v začetku igre, ne vidijo!).\n",
    "\n",
    "<img src=\"data:image/.png;base64,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\"/>"
   ]
  },
  {
   "cell_type": "markdown",
   "metadata": {},
   "source": [
    "Napišimo, takole, za preprosto vajo, funkcijo, ki ji podamo osebo in pove,\n",
    "koliko otrok ima."
   ]
  },
  {
   "cell_type": "code",
   "execution_count": 3,
   "metadata": {},
   "outputs": [],
   "source": [
    "def stevilo_otrok(oseba):\n",
    "    return len(otroci[oseba])\n",
    "    \n",
    "stevilo_otrok(\"Jožef\")"
   ]
  },
  {
   "cell_type": "markdown",
   "metadata": {},
   "source": [
    "Kako pa bi izvemo število vnukov posamezne osebe? Tako da gremo prek vseh otrok in seštevamo število njihovih otrok, recimo z"
   ]
  },
  {
   "cell_type": "code",
   "execution_count": 4,
   "metadata": {},
   "outputs": [],
   "source": [
    "def stevilo_vnukov(oseba):\n",
    "    v = 0\n",
    "    for otrok in otroci[oseba]:\n",
    "        v += len(otroci[otrok])\n",
    "    return v\n",
    "\n",
    "stevilo_vnukov(\"Daniel\")"
   ]
  },
  {
   "cell_type": "markdown",
   "metadata": {},
   "source": [
    "ali, brez velike razlike,"
   ]
  },
  {
   "cell_type": "code",
   "execution_count": 5,
   "metadata": {},
   "outputs": [],
   "source": [
    "def stevilo_vnukov(oseba):\n",
    "    v = 0\n",
    "    for otrok in otroci[oseba]:\n",
    "        v += stevilo_otrok(otrok)\n",
    "    return v\n",
    "\n",
    "stevilo_vnukov(\"Daniel\")"
   ]
  },
  {
   "cell_type": "markdown",
   "metadata": {},
   "source": [
    "Uh, kaj kompliciramo, saj že od predprejšnjega tedna znamo"
   ]
  },
  {
   "cell_type": "code",
   "execution_count": 6,
   "metadata": {},
   "outputs": [],
   "source": [
    "def stevilo_vnukov(oseba):\n",
    "    return sum(stevilo_otrok(otrok) for otrok in otroci[oseba])"
   ]
  },
  {
   "cell_type": "markdown",
   "metadata": {},
   "source": [
    "## Velikost rodbine\n",
    "\n",
    "Do sem - nič posebnega. Zdaj pa pridejo zanimive reči: za nekoga nas zanima, velika je njegova rodbina, skupaj z njim, njegovimi otroki, vnuki, pravnuki in tako naprej. Recimo, da ima rojstni dan in bo povabil vso svojo rodbino na večerjo. Koliko krožnikov za juho potrebuje.\n",
    "\n",
    "(Na predavanjih navadno vprašam nekoga, recimo Adama, po velikosti njegove rodbine.)\n",
    "\n",
    "Kaj mu je storiti? Vse svoje otroke, bo vprašal, kako velike so njihove rodbine. To bo seštel in prištel še sebe. Kako bodo ti otroci izvedeli velikosti svojih rodbin? Tako, da bodo vprašali vse svoje otroke po velikosti njihovih rodbin, to sešteli in prišteli še sebe. Pa njihovi otroci? Enako.\n",
    "\n",
    "Spremenimo to v funkcijo. Velikost rodbine dobimo tako, da gremo prek otrok in seštevamo velikosti njihovih rodbin."
   ]
  },
  {
   "cell_type": "code",
   "execution_count": 7,
   "metadata": {},
   "outputs": [],
   "source": [
    "def velikost_rodbine(oseba):\n",
    "    v = 0\n",
    "    for otrok in otroci[oseba]:\n",
    "        v += velikost_rodbine(otrok)\n",
    "    return v + 1\n",
    "\n",
    "velikost_rodbine(\"Elizabeta\")"
   ]
  },
  {
   "cell_type": "markdown",
   "metadata": {},
   "source": [
    "Za tiste, ki znajo snov izpred dveh tednov:"
   ]
  },
  {
   "cell_type": "code",
   "execution_count": 8,
   "metadata": {},
   "outputs": [],
   "source": [
    "def velikost_rodbine(oseba):\n",
    "    return sum(velikost_rodbine(otrok) for otrok in otroci[oseba]) + 1\n",
    "\n",
    "velikost_rodbine(\"Elizabeta\")"
   ]
  },
  {
   "cell_type": "markdown",
   "metadata": {},
   "source": [
    "Tule je primeren trenutek, da povemo nekaj pomembnega - kar je pravzaprav očitno, ampak vam malo kasneje morda ne bo: **vsaka funkcija ima svoje lokalne spremenljivke**. To vemo že nekaj časa. A tudi, ko funkcija kliče samo sebe, **ima vsaka \"inkarnacija\" funkcije svoje spremenljivke**. Funkcija `velikost_rodbine` si pripravi `v = 0`. Nato ga povečuje. A ko kliče samo sebe, in si v (rekurzivnih) klicih funkcija pripravi `v = 0`, je to **drug in ne isti `v`**."
   ]
  },
  {
   "cell_type": "markdown",
   "metadata": {},
   "source": [
    "## Poišči osebo\n",
    "\n",
    "Kako odkriti, ali je v rodbini določene osebe oseba s takšnim in takšnim imenom?\n",
    "\n",
    "Storiti nam je tole: če je tako ime ravno vprašani osebi, bo odgovorila `True`. Sicer bo enega za drugim spraševala otroke, dokler prvi ne odgovori `True`; tedaj vrnemo `True`. Če noben otrok nima takšnega potomca - in torej noben otrok ne odgovori `True`, odgovorimo `False`. Z drugimi besedami,"
   ]
  },
  {
   "cell_type": "code",
   "execution_count": 9,
   "metadata": {},
   "outputs": [],
   "source": [
    "def obstaja_ime(oseba, ime):\n",
    "    if oseba == ime:\n",
    "        return True\n",
    "    for otrok in otroci[oseba]:\n",
    "        if obstaja_ime(otrok, ime):\n",
    "            return True\n",
    "    return False\n",
    "\n",
    "obstaja_ime(\"Elizabeta\", \"Franc\")"
   ]
  },
  {
   "cell_type": "markdown",
   "metadata": {},
   "source": [
    "S snovjo izpred dveh tednov:"
   ]
  },
  {
   "cell_type": "code",
   "execution_count": 10,
   "metadata": {},
   "outputs": [],
   "source": [
    "def obstaja_ime(oseba, ime):\n",
    "    return oseba == ime or any(obstaja_ime(otrok, ime) for otrok in otroci[oseba])"
   ]
  },
  {
   "cell_type": "code",
   "execution_count": 11,
   "metadata": {},
   "outputs": [],
   "source": [
    "obstaja_ime(\"Elizabeta\", \"Franc\")"
   ]
  },
  {
   "cell_type": "code",
   "execution_count": 12,
   "metadata": {},
   "outputs": [],
   "source": [
    "obstaja_ime(\"Elizabeta\", \"Herman\")"
   ]
  },
  {
   "cell_type": "markdown",
   "metadata": {},
   "source": [
    "## Največja družina\n",
    "\n",
    "Kako velika je največja družina v rodbini neke osebe - s tem mislimo le otroke, brez staršev? Tu osebe razmišljajo tako: najprej predpostavijo, da je to njihova družina - največ otrok je torej toliko otrok, kolikor jih imajo oni. Potem vprašajo vsakega od otrok, kako velika je največja družina v njegovi rodbini. Če naleti na koga z večjo družino, si to zapomni. Na koncu vrne največ, kar je videl."
   ]
  },
  {
   "cell_type": "code",
   "execution_count": 13,
   "metadata": {},
   "outputs": [],
   "source": [
    "def najvec_otrok(oseba):\n",
    "    najvec = len(otroci[oseba])\n",
    "    for otrok in otroci[oseba]:\n",
    "        koliko = najvec_otrok(otrok)\n",
    "        if  koliko > najvec:\n",
    "            najvec = koliko\n",
    "    return najvec"
   ]
  },
  {
   "cell_type": "markdown",
   "metadata": {},
   "source": [
    "Največja družina v Danielovi rodbini ima tri otroke, zato"
   ]
  },
  {
   "cell_type": "code",
   "execution_count": 14,
   "metadata": {},
   "outputs": [
    {
     "data": {
      "text/plain": [
       "3"
      ]
     },
     "execution_count": 14,
     "metadata": {},
     "output_type": "execute_result"
    }
   ],
   "source": [
    "najvec_otrok(\"Daniel\")"
   ]
  },
  {
   "cell_type": "markdown",
   "metadata": {},
   "source": [
    "Kdor zna, zna takole:"
   ]
  },
  {
   "cell_type": "code",
   "execution_count": 15,
   "metadata": {},
   "outputs": [
    {
     "data": {
      "text/plain": [
       "3"
      ]
     },
     "execution_count": 15,
     "metadata": {},
     "output_type": "execute_result"
    }
   ],
   "source": [
    "def najvec_otrok(oseba):\n",
    "    return max([len(otroci[oseba])] + [najvec_otrok(otrok) for otrok in otroci[oseba]])\n",
    "\n",
    "najvec_otrok(\"Daniel\")"
   ]
  },
  {
   "cell_type": "markdown",
   "metadata": {},
   "source": [
    "Ob reševanju te naloge znajo študenti pogosto zagrešiti hud greh. Več o njem na koncu zapiskov.\n",
    "\n",
    "## Najdaljše ime v rodbini\n",
    "\n",
    "Katero je najdaljše ime v rodbini neke osebe? Tole je precej podobno največjemu številu otrok: najdaljše je moje, razen če je daljše katero od imen v rodbini katerega od otrok."
   ]
  },
  {
   "cell_type": "code",
   "execution_count": 16,
   "metadata": {},
   "outputs": [
    {
     "data": {
      "text/plain": [
       "'Aleksander'"
      ]
     },
     "execution_count": 16,
     "metadata": {},
     "output_type": "execute_result"
    }
   ],
   "source": [
    "def najdaljse_ime(oseba):\n",
    "    najdaljse = oseba\n",
    "    for otrok in otroci[oseba]:\n",
    "        naj_pod = najdaljse_ime(otrok)\n",
    "        if len(naj_pod) > len(najdaljse):\n",
    "            najdaljse = naj_pod\n",
    "    return najdaljse\n",
    "    \n",
    "najdaljse_ime(\"Adam\")"
   ]
  },
  {
   "cell_type": "markdown",
   "metadata": {},
   "source": [
    "(Z izpeljanimi seznami bi šlo enako kot prej. A pustimo.)\n",
    "\n",
    "## Globina rodbine\n",
    "\n",
    "Kako globoka je rodbina določene osebe? Torej, nekdo, ki nima otrok, ima rodbino globine 0. Če ima otroke, nima pa vnukov, ima rodbino globine 1. Če ima tudi kakega vnuka, vendar nobenega pravnuka, ima rodbino globine 2.\n",
    "\n",
    "Globino rodbine izračunamo tako, da vprašamo vse otroke po globinah njihovih rodbin in k največji globini, ki jo dobimo, prištejemo 1. Začetna največja globina pa bo `-1`; če oseba nima otrok, bo tudi ostala -1, in ko bomo prišteli 1, bo 0. Kot mora biti."
   ]
  },
  {
   "cell_type": "code",
   "execution_count": 17,
   "metadata": {},
   "outputs": [
    {
     "data": {
      "text/plain": [
       "3"
      ]
     },
     "execution_count": 17,
     "metadata": {},
     "output_type": "execute_result"
    }
   ],
   "source": [
    "def globina(oseba):\n",
    "    najvecja = -1\n",
    "    for otrok in otroci[oseba]:\n",
    "        g = globina(otrok)\n",
    "        if g > najvecja:\n",
    "            najvecja = g\n",
    "    return najvecja + 1\n",
    "\n",
    "globina(\"Elizabeta\")"
   ]
  },
  {
   "cell_type": "markdown",
   "metadata": {},
   "source": [
    "Ali, krajše"
   ]
  },
  {
   "cell_type": "code",
   "execution_count": 18,
   "metadata": {},
   "outputs": [
    {
     "data": {
      "text/plain": [
       "3"
      ]
     },
     "execution_count": 18,
     "metadata": {},
     "output_type": "execute_result"
    }
   ],
   "source": [
    "def globina(oseba):\n",
    "    return max([globina(otrok) for otrok in otroci[oseba]], default=-1) + 1    \n",
    "\n",
    "globina(\"Elizabeta\")"
   ]
  },
  {
   "cell_type": "markdown",
   "metadata": {},
   "source": [
    "## Velikost potomstva\n",
    "\n",
    "Pripadnike Novakove rodbine smo nato spraševali, koliko potomstva imajo. S potomci mislimo nekaj takšnega kot rodbino, a brez te osebe same. Jurij (ki ima dva otroka in tri vnuke) ima pet potomcev, čeprav je velikost njegove rodbine enaka 6.\n",
    "\n",
    "Tale zahteva malo razmisleka. Navidez bi jo lahko ugnali tako, kot smo velikost rodbine, le 1 ne smemo prišteti na koncu, saj oseba ne sme šteti sebe."
   ]
  },
  {
   "cell_type": "code",
   "execution_count": 19,
   "metadata": {},
   "outputs": [],
   "source": [
    "def stevilo_potomcev(oseba):\n",
    "    v = 0\n",
    "    for otrok in otroci[oseba]:\n",
    "        v += stevilo_potomcev(otrok)\n",
    "    return v"
   ]
  },
  {
   "cell_type": "markdown",
   "metadata": {},
   "source": [
    "Zoprna reč je, da je ta funkcija nekoliko napačna. No, precej napačna. Vedno vrne 0 - ker nihče nikoli ničesar ne prišteje, vse seštevajo samo ničle. In iz ničel nikoli ne boš dobil ničesar, pa jih seštevaj, kolikor dolgo hočeš."
   ]
  },
  {
   "cell_type": "code",
   "execution_count": 20,
   "metadata": {},
   "outputs": [
    {
     "data": {
      "text/plain": [
       "0"
      ]
     },
     "execution_count": 20,
     "metadata": {},
     "output_type": "execute_result"
    }
   ],
   "source": [
    "stevilo_potomcev(\"Elizabeta\")"
   ]
  },
  {
   "cell_type": "markdown",
   "metadata": {},
   "source": [
    "Ena rešitev je, da vsak vrne število svojih otrok, ki čemur morajo otroci prišteti število svojih otrok, in vnuki število svojih..."
   ]
  },
  {
   "cell_type": "code",
   "execution_count": 21,
   "metadata": {},
   "outputs": [
    {
     "data": {
      "text/plain": [
       "8"
      ]
     },
     "execution_count": 21,
     "metadata": {},
     "output_type": "execute_result"
    }
   ],
   "source": [
    "def stevilo_potomcev(oseba):\n",
    "    potomcev = len(otroci[oseba])\n",
    "    for otrok in otroci[oseba]:\n",
    "        potomcev += stevilo_potomcev(otrok)\n",
    "    return potomcev\n",
    "    \n",
    "stevilo_potomcev(\"Elizabeta\")"
   ]
  },
  {
   "cell_type": "markdown",
   "metadata": {},
   "source": [
    "Ali isto, le na drug način:"
   ]
  },
  {
   "cell_type": "code",
   "execution_count": 22,
   "metadata": {},
   "outputs": [
    {
     "data": {
      "text/plain": [
       "8"
      ]
     },
     "execution_count": 22,
     "metadata": {},
     "output_type": "execute_result"
    }
   ],
   "source": [
    "def stevilo_potomcev(oseba):\n",
    "    potomcev = 0\n",
    "    for otrok in otroci[oseba]:\n",
    "        potomcev += 1 + stevilo_potomcev(otrok)\n",
    "    return potomcev\n",
    "\n",
    "stevilo_potomcev(\"Elizabeta\")"
   ]
  },
  {
   "cell_type": "markdown",
   "metadata": {},
   "source": [
    "Lahko pa si pomagamo tudi z rodbino:"
   ]
  },
  {
   "cell_type": "code",
   "execution_count": 23,
   "metadata": {},
   "outputs": [
    {
     "data": {
      "text/plain": [
       "8"
      ]
     },
     "execution_count": 23,
     "metadata": {},
     "output_type": "execute_result"
    }
   ],
   "source": [
    "def stevilo_potomcev(oseba):\n",
    "    return velikost_rodbine(oseba) - 1\n",
    "    \n",
    "stevilo_potomcev(\"Elizabeta\")"
   ]
  },
  {
   "cell_type": "markdown",
   "metadata": {},
   "source": [
    "## Izpis vseh članov rodbine\n",
    "\n",
    "Rešimo nekoliko preprostejšo nalogo od gornjih - ker bo vodila v nekoliko zahtevnejšo spodnjo. Izpisali bi radi vse člane rodbine določene osebe.\n",
    "\n",
    "Naloga je res preprosta: vsak izpiše svoje ime in pozove svoje otroke, naj storijo isto."
   ]
  },
  {
   "cell_type": "code",
   "execution_count": 24,
   "metadata": {},
   "outputs": [
    {
     "name": "stdout",
     "output_type": "stream",
     "text": [
      "Adam\n",
      "Matjaž\n",
      "Viljem\n",
      "Tadeja\n",
      "Cilka\n",
      "Daniel\n",
      "Elizabeta\n",
      "Ludvik\n",
      "Jurij\n",
      "Franc\n",
      "Jožef\n",
      "Alenka\n",
      "Aleksander\n",
      "Petra\n",
      "Barbara\n",
      "Hans\n",
      "Herman\n",
      "Margareta\n",
      "Erik\n"
     ]
    }
   ],
   "source": [
    "def izpis(oseba):\n",
    "    print(oseba)\n",
    "    for otrok in otroci[oseba]:\n",
    "        izpis(otrok)\n",
    "        \n",
    "izpis(\"Adam\")"
   ]
  },
  {
   "cell_type": "markdown",
   "metadata": {},
   "source": [
    "## Seznam potomcev\n",
    "\n",
    "Zdaj pa napišimo funkcijo `rodbina(oseba)`, ki vrne seznam imen vseh članov rodbine podane osebe. Funkcija je nadvse poučna zato, ker jo študenti zelo vztrajno programirajo narobe. Na vsak način si jo namreč želijo sprogramirati tako, da bi sestavili seznam, v katerega mora vsak dopisati sebe in nato k temu povabiti še svoje otroke. \n",
    "\n",
    "Slediti želijo gornji funkciji, le `print` bi zamenjali z `append`. Tako naredijo tole.\n",
    "\n",
    "```python\n",
    "def rodbina(oseba):\n",
    "    clani.append(oseba)\n",
    "    for otrok in otroci[oseba]:\n",
    "        rodbina(otrok)\n",
    "```\n",
    "\n",
    "Ideja je, da se vsi dopisujejo v seznam `clani`. In to - kot je vsem, ki to napišejo, jasno na prvi pogled, ne deluje, ker nimamo seznama `clani`. Zato v resnici naredijo tole."
   ]
  },
  {
   "cell_type": "code",
   "execution_count": 25,
   "metadata": {},
   "outputs": [
    {
     "data": {
      "text/plain": [
       "['Adam']"
      ]
     },
     "execution_count": 25,
     "metadata": {},
     "output_type": "execute_result"
    }
   ],
   "source": [
    "def rodbina(oseba):\n",
    "    clani = []\n",
    "    clani.append(oseba)\n",
    "    for otrok in otroci[oseba]:\n",
    "        rodbina(otrok)\n",
    "    return clani\n",
    "\n",
    "rodbina(\"Adam\")"
   ]
  },
  {
   "cell_type": "markdown",
   "metadata": {},
   "source": [
    "Kot je jasno vsakemu, ki ve vsaj kaj malega o eni od treh razširjenih religijah, namreč judovski, krščanski in muslimanski (in order of appearance), je zgolj število trenutno živečih članov Adamove rodbine okrog sedem milijard in pol (število vseh ljudi, ki so bili kdaj na svetu, pa okrog sto milijard). No, v našem rodovniku pa jih je, skupaj z Adamom, 19. Funkcija pa vrne le Adama.\n",
    "\n",
    "Zakaj? Logično. Kaj počnemo s seznamom člani? Pripravimo prazen seznam, vanj dodamo osebo in ga vrnemo. Tisti dve vrstici, ki sta vmes (zanka in klic v njej) se seznama `clani` ne dotikata. Vsaka funkcija ima *svoje* lokalne spremenljivke. Vsi ti klici funkcij si ne delijo *istega* seznama `clani`, saj ima - kot smo se ponovno spomnili precej na začetku, ob funkciju `velikost_rodbine`, vsaka funkcija **svoje lokalne spremenljivke**.\n",
    "\n",
    "Študent, ki napiše gornje, je naredil zgolj napako. V obupu pa se zatečejo iz *napake* naravnost v *greh*. Naredijo pogodbo s hudičem (v obliki globalne spremenljivke) in mislijo, da jih bo to rešilo."
   ]
  },
  {
   "cell_type": "code",
   "execution_count": 26,
   "metadata": {},
   "outputs": [
    {
     "data": {
      "text/plain": [
       "['Adam',\n",
       " 'Matjaž',\n",
       " 'Viljem',\n",
       " 'Tadeja',\n",
       " 'Cilka',\n",
       " 'Daniel',\n",
       " 'Elizabeta',\n",
       " 'Ludvik',\n",
       " 'Jurij',\n",
       " 'Franc',\n",
       " 'Jožef',\n",
       " 'Alenka',\n",
       " 'Aleksander',\n",
       " 'Petra',\n",
       " 'Barbara',\n",
       " 'Hans',\n",
       " 'Herman',\n",
       " 'Margareta',\n",
       " 'Erik']"
      ]
     },
     "execution_count": 26,
     "metadata": {},
     "output_type": "execute_result"
    }
   ],
   "source": [
    "clani = []\n",
    "\n",
    "def rodbina(oseba):\n",
    "    clani.append(oseba)\n",
    "    for otrok in otroci[oseba]:\n",
    "        rodbina(otrok)\n",
    "    return clani\n",
    "\n",
    "rodbina(\"Adam\")"
   ]
  },
  {
   "cell_type": "markdown",
   "metadata": {},
   "source": [
    "Nasvet nekoga, ki rad bere ljudske zgodbe in pripovedke: pogodbe s hudičem se nikoli ne splačajo. Kratkoročno izgleda, da je junak zgodbe uspel, potem pa pride tvist, kjer hudič zmaga. (Edina znana izjema v zgodovini človeštva je oni nemški kovač; več o njem na [Myths and Legends](https://www.stitcher.com/show/myths-and-legnen/episode/45rumpelstiltskin-lets-make-a-deal-46489753), začetek zgodbe je pri 17:45.)\n",
    "\n",
    "Torej: zgoraj je videti, da funkcija deluje. Za vsak slučaj poglejmo še Jožefovo rodbino, ki, kot vemo, obsega njega in njegove tri otroke."
   ]
  },
  {
   "cell_type": "code",
   "execution_count": 27,
   "metadata": {},
   "outputs": [
    {
     "data": {
      "text/plain": [
       "['Adam',\n",
       " 'Matjaž',\n",
       " 'Viljem',\n",
       " 'Tadeja',\n",
       " 'Cilka',\n",
       " 'Daniel',\n",
       " 'Elizabeta',\n",
       " 'Ludvik',\n",
       " 'Jurij',\n",
       " 'Franc',\n",
       " 'Jožef',\n",
       " 'Alenka',\n",
       " 'Aleksander',\n",
       " 'Petra',\n",
       " 'Barbara',\n",
       " 'Hans',\n",
       " 'Herman',\n",
       " 'Margareta',\n",
       " 'Erik',\n",
       " 'Jožef',\n",
       " 'Alenka',\n",
       " 'Aleksander',\n",
       " 'Petra']"
      ]
     },
     "execution_count": 27,
     "metadata": {},
     "output_type": "execute_result"
    }
   ],
   "source": [
    "rodbina(\"Jožef\")"
   ]
  },
  {
   "cell_type": "markdown",
   "metadata": {},
   "source": [
    "Razumemo, kaj se dogaja? Vsakič, ko pokličemo funkcijo, dodaja nove ljudi v isti seznam. Ta bo vsakič vedno daljši. Potem se grešnik domisli, da bi `clani` spraznil na začetku klica funkcije,"
   ]
  },
  {
   "cell_type": "code",
   "execution_count": 28,
   "metadata": {},
   "outputs": [
    {
     "data": {
      "text/plain": [
       "['Adam']"
      ]
     },
     "execution_count": 28,
     "metadata": {},
     "output_type": "execute_result"
    }
   ],
   "source": [
    "clani = []\n",
    "\n",
    "def rodbina(oseba):\n",
    "    clani = []\n",
    "    clani.append(oseba)\n",
    "    for otrok in otroci[oseba]:\n",
    "        rodbina(otrok)\n",
    "    return clani\n",
    "\n",
    "rodbina(\"Adam\")"
   ]
  },
  {
   "cell_type": "markdown",
   "metadata": {},
   "source": [
    "To ne deluje iz enakega razloga, iz katerega ne deluje že prvič. `clani` je zdaj spet lokalna spremenljivka funkcije, katere ime je slučajno enako imenu globalne spremenljivke.\n",
    "\n",
    "Grešnik išče odrešenja v tem, da v funkciji ne naredi nove, lokalne spremenljivke, temveč sprazni globalno,"
   ]
  },
  {
   "cell_type": "code",
   "execution_count": 29,
   "metadata": {},
   "outputs": [
    {
     "data": {
      "text/plain": [
       "['Erik']"
      ]
     },
     "execution_count": 29,
     "metadata": {},
     "output_type": "execute_result"
    }
   ],
   "source": [
    "clani = []\n",
    "\n",
    "def rodbina(oseba):\n",
    "    clani.clear()\n",
    "    clani.append(oseba)\n",
    "    for otrok in otroci[oseba]:\n",
    "        rodbina(otrok)\n",
    "    return clani\n",
    "\n",
    "rodbina(\"Adam\")"
   ]
  },
  {
   "cell_type": "markdown",
   "metadata": {},
   "source": [
    "a tudi to ne obrodi bistveno boljši rezultatov, saj se ena in ista spremenljivka praznita ob vsakem rekurzivnem klicu in na koncu vsebuje tisto vrednost, ki jo je tja vpisala zadnja oseba, za katero smo poklicali funkcijo.\n",
    "\n",
    "Kdor naredi pogodbo s hudičem, se zezne. Rekurzija in globalne spremenljivke so zelo slaba kombinacija.\n",
    "\n",
    "Osnovni problem ni v tem, da ne bi znali sprogramirati, temveč že v tem, da narobe razmišljamo. Tule znotraj funkcije očitno pokličemo funkcijo `rodbina(otrok)`, ki vrne nek rezultat, mi pa s tem rezultatom na naredimo ničesar. To ne more biti prav, ne? (Picajzlasto gledano: lahko bi bilo prav. Vendar bi bilo treba sprogramirati grše in računati na \"stranske efekte\" funkcije, kar pa je prav tako zelo grdo.)\n",
    "\n",
    "Razmišljati moramo z vidika igre, ki jo igramo ob učenju rekurzije v predavalnici: vsak otrok sporoči svojo rodbino in to, kar vrnejo otroci, je potrebno seštevati."
   ]
  },
  {
   "cell_type": "code",
   "execution_count": 30,
   "metadata": {},
   "outputs": [
    {
     "data": {
      "text/plain": [
       "['Adam',\n",
       " 'Matjaž',\n",
       " 'Viljem',\n",
       " 'Tadeja',\n",
       " 'Cilka',\n",
       " 'Daniel',\n",
       " 'Elizabeta',\n",
       " 'Ludvik',\n",
       " 'Jurij',\n",
       " 'Franc',\n",
       " 'Jožef',\n",
       " 'Alenka',\n",
       " 'Aleksander',\n",
       " 'Petra',\n",
       " 'Barbara',\n",
       " 'Hans',\n",
       " 'Herman',\n",
       " 'Margareta',\n",
       " 'Erik']"
      ]
     },
     "execution_count": 30,
     "metadata": {},
     "output_type": "execute_result"
    }
   ],
   "source": [
    "def rodbina(oseba):\n",
    "    clani = [oseba]\n",
    "    for otrok in otroci[oseba]:\n",
    "        clani += rodbina(otrok)\n",
    "    return clani\n",
    "\n",
    "rodbina(\"Adam\")"
   ]
  },
  {
   "cell_type": "code",
   "execution_count": 31,
   "metadata": {},
   "outputs": [
    {
     "data": {
      "text/plain": [
       "['Jožef', 'Alenka', 'Aleksander', 'Petra']"
      ]
     },
     "execution_count": 31,
     "metadata": {},
     "output_type": "execute_result"
    }
   ],
   "source": [
    "rodbina(\"Jožef\")"
   ]
  },
  {
   "cell_type": "markdown",
   "metadata": {},
   "source": [
    "## Globina imena\n",
    "\n",
    "Funkcija `globina_imena(oseba, ima)` naj pove, kako globoko v rodbini podane osebe je potomec s podanim imenom. Če gre za eno in isto osebo; naj vrne 0; če za otroka, vrne 1; če za vnuka, 2; če za pravnuka, 3... Če oseba nima potomca s podanim imenom, pa naj funkcija vrne `None`.\n",
    "\n",
    "Gre za variacijo funkcije `obstaja_ime`. Tako kot prej tudi tu vrnemo `None`, če imena ni. Če kateri od otrok pove, da je dotični potomec na globini `n`, pa je ta potomec, glede na to osebo, na globini `n + 1`."
   ]
  },
  {
   "cell_type": "code",
   "execution_count": 32,
   "metadata": {},
   "outputs": [
    {
     "data": {
      "text/plain": [
       "3"
      ]
     },
     "execution_count": 32,
     "metadata": {},
     "output_type": "execute_result"
    }
   ],
   "source": [
    "def globina_imena(oseba, ime):\n",
    "    if oseba == ime:\n",
    "        return 0\n",
    "    for otrok in otroci[oseba]:\n",
    "        n = globina_imena(otrok, ime)\n",
    "        if n != None:\n",
    "            return n + 1\n",
    "    return None\n",
    "\n",
    "globina_imena(\"Daniel\", \"Jožef\")"
   ]
  },
  {
   "cell_type": "markdown",
   "metadata": {},
   "source": [
    "Pri `najvec_otrok` sem opozoril, da znajo študenti pri programiranju te funkcije narediti zoprno napako. Tudi `globina_imena` ponuja podobno skušnjavo. Marsikateri študent bi jo skrajšal za eno vrstico in naredil tako:"
   ]
  },
  {
   "cell_type": "code",
   "execution_count": 33,
   "metadata": {},
   "outputs": [
    {
     "data": {
      "text/plain": [
       "3"
      ]
     },
     "execution_count": 33,
     "metadata": {},
     "output_type": "execute_result"
    }
   ],
   "source": [
    "def globina_imena(oseba, ime):\n",
    "    if oseba == ime:\n",
    "        return 0\n",
    "    for otrok in otroci[oseba]:\n",
    "        if globina_imena(otrok, ime) != None:\n",
    "            return globina_imena(otrok, ime) + 1\n",
    "    return None\n",
    "\n",
    "globina_imena(\"Daniel\", \"Jožef\")"
   ]
  },
  {
   "cell_type": "code",
   "execution_count": 34,
   "metadata": {},
   "outputs": [
    {
     "name": "stdout",
     "output_type": "stream",
     "text": [
      "Daniel\n",
      "Elizabeta\n",
      "Ludvik\n",
      "Jurij\n",
      "Franc\n",
      "Jožef\n"
     ]
    },
    {
     "data": {
      "text/plain": [
       "3"
      ]
     },
     "execution_count": 34,
     "metadata": {},
     "output_type": "execute_result"
    }
   ],
   "source": [
    "def globina_imena(oseba, ime):\n",
    "    print(oseba)\n",
    "    if oseba == ime:\n",
    "        return 0\n",
    "    for otrok in otroci[oseba]:\n",
    "        n = globina_imena(otrok, ime)\n",
    "        if n != None:\n",
    "            return n + 1\n",
    "    return None\n",
    "\n",
    "globina_imena(\"Daniel\", \"Jožef\")"
   ]
  },
  {
   "cell_type": "markdown",
   "metadata": {},
   "source": [
    "Druga funkcija - tista, ki se pokliče dvakrat."
   ]
  },
  {
   "cell_type": "code",
   "execution_count": 35,
   "metadata": {},
   "outputs": [
    {
     "name": "stdout",
     "output_type": "stream",
     "text": [
      "Daniel\n",
      "Elizabeta\n",
      "Ludvik\n",
      "Jurij\n",
      "Franc\n",
      "Jožef\n",
      "Jožef\n",
      "Jurij\n",
      "Franc\n",
      "Jožef\n",
      "Jožef\n",
      "Elizabeta\n",
      "Ludvik\n",
      "Jurij\n",
      "Franc\n",
      "Jožef\n",
      "Jožef\n",
      "Jurij\n",
      "Franc\n",
      "Jožef\n",
      "Jožef\n"
     ]
    },
    {
     "data": {
      "text/plain": [
       "3"
      ]
     },
     "execution_count": 35,
     "metadata": {},
     "output_type": "execute_result"
    }
   ],
   "source": [
    "def globina_imena(oseba, ime):\n",
    "    print(oseba)\n",
    "    if oseba == ime:\n",
    "        return 0\n",
    "    for otrok in otroci[oseba]:\n",
    "        if globina_imena(otrok, ime) != None:\n",
    "            return globina_imena(otrok, ime) + 1\n",
    "    return None\n",
    "\n",
    "globina_imena(\"Daniel\", \"Jožef\")"
   ]
  },
  {
   "cell_type": "markdown",
   "metadata": {},
   "source": [
    "Pričakovali bi dvakrat daljši spisek ... vendar je spisek očitno več kot dvakrat daljši.\n",
    "\n",
    "Kolikokrat se na njem pojavi Jožef? Osemkrat!\n",
    "\n",
    "Daniel dvakrat vpraša Elizabeto. To drži. Elizabeta dvakrat vpraša Jurija; vendar je sama vprašana dvakrat, torej je Jurij vprašan štirikrat. Jurij pa dvakrat vpraša Jožefa; Jurij sam je vprašaan štirikrat, torej je Jožef osemkrat. Kot je očitno iz spiska.\n",
    "\n",
    "Število vprašanj se v vsakem nivoju podvoji. Pri drevesu globine 5, kot je naše, so nekateri vprašani 32-krat. Pri drevesu globine 10 so vprašani 1024-krat. Pri drevesu globine 20 pa že več kot milijonkrat - namesto dvajsetkrat.\n",
    "\n",
    "V rekurziji se moramo *res* izogniti temu, da bi isto funkcijo brez potrebe klicali večkrat.\n",
    "\n",
    "Več o tem in o `lru_cache` pa v dodatnih predavanjih.\n",
    "\n",
    "\n",
    "### Še več nalog\n",
    "\n",
    "Še veliko nalog na temo rodbine najdete [na strani predmeta](https://ucilnica.fri.uni-lj.si/p1)."
   ]
  }
 ],
 "metadata": {
  "kernelspec": {
   "display_name": "Python 3",
   "language": "python",
   "name": "python3"
  },
  "language_info": {
   "codemirror_mode": {
    "name": "ipython",
    "version": 3
   },
   "file_extension": ".py",
   "mimetype": "text/x-python",
   "name": "python",
   "nbconvert_exporter": "python",
   "pygments_lexer": "ipython3",
   "version": "3.7.4"
  }
 },
 "nbformat": 4,
 "nbformat_minor": 4
}
