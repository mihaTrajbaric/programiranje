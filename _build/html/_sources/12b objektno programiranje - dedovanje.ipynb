{
 "cells": [
  {
   "cell_type": "markdown",
   "metadata": {},
   "source": [
    "# Še o objektnem programiranju\n",
    "\n",
    "Objektno programiranje je resna tema, ki je ni mogoče kar tako odpredavati v dveh tednih in se ga ni mogoče kar tako naučiti v dveh mesecih. Ker je vaš študij kratek in boste te reči kmalu potrebovali pri drugih predmetih, vam moramo tule predstaviti osnove. Ker vam mora priti\n",
    "stvar v kri, pa ne pričakujmo čudežev. Pri tem predmetu se boste naučili zgolj nekaterih tehnikalij, ne pa vsega, kar v zvezi s tem ponuja Python, vsega, kar ponujajo drugi jeziki in, predvsem, filozofije, ki je za tem.\n",
    "\n",
    "## Dedovanje\n",
    "\n",
    "Definirajmo razred `Oseba`. Vsaka oseba ima `ime` in `spol` (`Z` ali `M`); oba podatka podamo kot argumenta konstruktorju. Oseba zna pozdravljati: metoda `pozdravi` izpiše `Pozdravljeni, jaz sem {}`, kjer namesto `{}` vstavi svoje ime."
   ]
  },
  {
   "cell_type": "code",
   "execution_count": 1,
   "metadata": {},
   "outputs": [],
   "source": [
    "class Oseba:\n",
    "    def __init__(self, ime, spol):\n",
    "        self.ime = ime\n",
    "        self.spol = spol\n",
    "\n",
    "    def pozdravi(self):\n",
    "        print(\"Pozdravljeni, jaz sem {}\".format(self.ime))"
   ]
  },
  {
   "cell_type": "markdown",
   "metadata": {},
   "source": [
    "Tu smo mimogrede prvič srečali konstruktor (metodo `__init__`) z argumenti. Želva je imela konstruktor brez argumentov; novo želvo smo naredili s `Turtle()` in vedno je stala na sredini, obrnjena navzgor, vidna in s spuščenim peresom. Pri osebah ne bomo imeli \"začetnega imena\" (Janez Novak?!), temveč bomo morali ob konstrukciji objekta `Oseba` vedno povedati tudi njeno ime in spol."
   ]
  },
  {
   "cell_type": "code",
   "execution_count": 2,
   "metadata": {},
   "outputs": [],
   "source": [
    "benjamin = Oseba(\"Benjamin\", \"M\")"
   ]
  },
  {
   "cell_type": "markdown",
   "metadata": {},
   "source": [
    "Vse, kar naredi konstruktor, je, da prepiše vrednost argumenta v (istoimenski) atribut objekta. Se pravi, shrani argument v objekt.\n",
    "\n",
    "Osebe znajo tudi vljudno pozdravljati:"
   ]
  },
  {
   "cell_type": "code",
   "execution_count": 3,
   "metadata": {},
   "outputs": [
    {
     "name": "stdout",
     "output_type": "stream",
     "text": [
      "Pozdravljeni, jaz sem Benjamin\n"
     ]
    }
   ],
   "source": [
    "benjamin.pozdravi()"
   ]
  },
  {
   "cell_type": "markdown",
   "metadata": {},
   "source": [
    "Na fakulteti sta, poenostavljeno povedano, dve vrsti oseb, študenti in učitelji. Za študente beležimo njihove ocene pri posameznih predmetih. Ocene bomo pisali v slovar, katerega ključi bodo imena predmetov, vrednosti pa ocene pri teh predmetih. Študenta je mogoče oceniti, zato\n",
    "bo imel metodo `oceni`, ki ji bomo kot argument podali ime predmeta in oceno, pa bo zapisala to v slovar. Poleg tega bo imel funkcijo `poprecje`, ki bo izračunala njegovo poprečno oceno.\n",
    "\n",
    "Poleg tega pa imajo tudi študenti ime in spol, in tudi pozdravljati znajo. Z drugimi besedami: *študent je vrsta osebe*. Študent ima vse lastnosti osebe in zna vse, kar znajo osebe, poleg tega pa še nekaj več (beležiti ocene in računati poprečja). Zato bomo razred `Student`\n",
    "*izpeljali iz razreda* `Oseba` (Angleži bi rekli `Student` *is derived from* `Oseba`). `Student` bo *podedoval* vse, kar ima `Oseba` (`Student` *inherits attributes and methods from* `Oseba`). Razred `Oseba` bo prednik (*parent*) razreda `Student`.\n",
    "\n",
    "Kako to storimo? Zelo preprosto: ko definiramo razred `Student`, v oklepaju dodamo še razred, iz katerega naj bo ta izpeljan."
   ]
  },
  {
   "cell_type": "code",
   "execution_count": 4,
   "metadata": {},
   "outputs": [],
   "source": [
    "class Student(Oseba):\n",
    "    def __init__(self, ime, spol):\n",
    "        super().__init__(ime, spol)\n",
    "        self.ocene = {}\n",
    "\n",
    "    def oceni(self, predmet, ocena):\n",
    "        self.ocene[predmet] = ocena\n",
    "\n",
    "    def poprecje(self):\n",
    "        if not self.ocene:\n",
    "            return 0\n",
    "        return sum(self.ocene.values()) / len(self.ocene)"
   ]
  },
  {
   "cell_type": "markdown",
   "metadata": {},
   "source": [
    "Najprej preverimo, ali reč deluje."
   ]
  },
  {
   "cell_type": "code",
   "execution_count": 5,
   "metadata": {},
   "outputs": [
    {
     "data": {
      "text/plain": [
       "9.5"
      ]
     },
     "execution_count": 5,
     "metadata": {},
     "output_type": "execute_result"
    }
   ],
   "source": [
    "rebeka = Student(\"Rebeka\", \"Z\")\n",
    "rebeka.oceni(\"Programiranje 1\", 10)\n",
    "rebeka.oceni(\"Uvod v racunalnistvo\", 9)\n",
    "rebeka.poprecje()"
   ]
  },
  {
   "cell_type": "markdown",
   "metadata": {},
   "source": [
    "Sestavimo tri študente, zložimo jih v seznam in vsakemu študentu dodelimo deset naključnih ocen pri naključno izbranih predmetih."
   ]
  },
  {
   "cell_type": "code",
   "execution_count": 6,
   "metadata": {},
   "outputs": [],
   "source": [
    "from random import choice, randint\n",
    "\n",
    "s1 = Student(\"Ana Karenina\", \"Z\")\n",
    "s2 = Student(\"Berta Novak\", \"Z\")\n",
    "s3 = Student(\"Cilka Celarec\", \"Z\")\n",
    "\n",
    "studenti = [s1, s2, s3]\n",
    "\n",
    "predmeti = [\"Uvod v racunalnistvo\", \"Programiranje 1\", \"Racunalniska arhitektura\",\n",
    "            \"Matematika\", \"Diskretne strukture\", \"Programiranje 2\",\n",
    "            \"Podatkovne baze\", \"Racunalniske komunikacije\", \"Operacijski sistemi\",\n",
    "            \"Osnove verjetnosti in statistike\"]\n",
    "\n",
    "for student in studenti:\n",
    "    for i in range(10):\n",
    "        student.oceni(choice(predmeti), randint(6, 10))"
   ]
  },
  {
   "cell_type": "markdown",
   "metadata": {},
   "source": [
    "Zdaj lahko izpišemo poprečne ocene vseh študentov."
   ]
  },
  {
   "cell_type": "code",
   "execution_count": 7,
   "metadata": {},
   "outputs": [
    {
     "name": "stdout",
     "output_type": "stream",
     "text": [
      "Ana Karenina 8.142857142857142\n",
      "Berta Novak 8.0\n",
      "Cilka Celarec 7.571428571428571\n"
     ]
    }
   ],
   "source": [
    "for student in studenti:\n",
    "    print(student.ime, student.poprecje())"
   ]
  },
  {
   "cell_type": "markdown",
   "metadata": {},
   "source": [
    "Vse to so bile študentske zadeve. Ker je Rebeka tudi oseba, pa zna tudi pozdravljati."
   ]
  },
  {
   "cell_type": "code",
   "execution_count": 8,
   "metadata": {},
   "outputs": [
    {
     "name": "stdout",
     "output_type": "stream",
     "text": [
      "Pozdravljeni, jaz sem Rebeka\n"
     ]
    }
   ],
   "source": [
    "rebeka.pozdravi()"
   ]
  },
  {
   "cell_type": "markdown",
   "metadata": {},
   "source": [
    "Še enkrat preverite in se prepričajte: metode `pozdravi` nismo definirali v razredu `Student`, Rebeka pa vseeno pozdravlja. Ta metoda je torej podedovana od razreda-prednika `Oseba`.\n",
    "\n",
    "Zdaj pa poglejmo definicijo metod razreda. Dodeljevanje ocene (`oceni`) je trivialno. Pri računanju poprečja (`poprecje`) moramo paziti le na študente, ki nimajo še nobene ocene, zato bo `vseh` tam enak 0.\n",
    "\n",
    "Zanimiv pa je konstruktor, ki mora le pripraviti slovar, v katerega bo metoda `oceni` dodajala ocene. Ostalo pa prepusti podedovanemu konstruktorju - tako da ga pokliče.\n",
    "\n",
    "Razred `Student` je podedoval, recimo, metodo `pozdravi`. Ko rečemo `rebeka.pozdravi()`, se pokliče podedovano pozdravljanje. `Student` je sestavil novo metodo `poprecje` in tudi tu ni dilem: ko rečemo `rebeka.poprecje()`, se pokliče funkcija oceni iz razreda `Student`. Metodi `__init__` pa sta dve, podedovana in nova! Pravilo je preprosto: istoimenska metoda iz izpeljanega razreda povozi podedovano metodo.\n",
    "\n",
    "Da je res tako, se najprej prepričajmo na preprostem zgledu: razredu `Student` definirajmo novo metodo `pozdravi`."
   ]
  },
  {
   "cell_type": "code",
   "execution_count": 9,
   "metadata": {},
   "outputs": [],
   "source": [
    "class Student(Oseba):\n",
    "    def __init__(self, ime, spol):\n",
    "        super().__init__(ime, spol)\n",
    "        self.ocene = {}\n",
    "\n",
    "    def oceni(self, predmet, ocena):\n",
    "        self.ocene[predmet] = ocena\n",
    "\n",
    "    def poprecje(self):\n",
    "        if not self.ocene:\n",
    "            return 0\n",
    "        return sum(self.ocene.values()) / len(self.ocene)\n",
    "        \n",
    "    def pozdravi(self):\n",
    "        print(\"Pozdravljeni, jaz sem {} in sem student(ka)\".format(self.ime))"
   ]
  },
  {
   "cell_type": "markdown",
   "metadata": {},
   "source": [
    "Sestavimo novo Rebeko in jo pozovimo, naj nas pozdravi."
   ]
  },
  {
   "cell_type": "code",
   "execution_count": 10,
   "metadata": {},
   "outputs": [
    {
     "name": "stdout",
     "output_type": "stream",
     "text": [
      "Pozdravljeni, jaz sem Rebeka in sem student(ka)\n"
     ]
    }
   ],
   "source": [
    "rebeka = Student(\"Rebeka\", \"Z\")\n",
    "rebeka.pozdravi()"
   ]
  },
  {
   "cell_type": "markdown",
   "metadata": {},
   "source": [
    "Rebeka ima tule dve metodi `pozdravi`, vendar se pokliče nova in ne podedovana.\n",
    "\n",
    "Kaj pa, če bi hoteli poklicati podedovano metodo in ne nove? Tega ne počnemo. To je nenaravno, ne predstavljam si situacije, kjer bi nam v lepo napisanem programu to moglo priti prav ... razen v enem primeru: ko nova metoda kliče staro. Tule lahko razmišljamo takole: `Student` je izpeljan iz `Oseba` in torej zna pozdravljati. Vse, kar doda k pozdravu, je \"in sem student(ka)\". To pomeni, da bi lahko najprej prepustili pozdravljanje podedovani metodi in v `Student`ovem `pozdravi` le še dodatno izpisali \"in sem student(ka)\". To se stori takole:"
   ]
  },
  {
   "cell_type": "code",
   "execution_count": 11,
   "metadata": {},
   "outputs": [],
   "source": [
    "class Student(Oseba):\n",
    "    def __init__(self, ime, spol):\n",
    "        super().__init__(ime, spol)\n",
    "        self.ocene = {}\n",
    "\n",
    "    def oceni(self, predmet, ocena):\n",
    "        self.ocene[predmet] = ocena\n",
    "\n",
    "    def poprecje(self):\n",
    "        if not self.ocene:\n",
    "            return 0\n",
    "        return sum(self.ocene.values()) / len(self.ocene)\n",
    "        \n",
    "    def pozdravi(self):\n",
    "        super().pozdravi()\n",
    "        print(\"in sem student(ka)\")"
   ]
  },
  {
   "cell_type": "markdown",
   "metadata": {},
   "source": [
    "Rezultat sicer ni povsem enak (\"in sem student(ka)\" je namreč napisano v novi vrsti), a za primer bomo to vzeli v zakup.\n",
    "\n",
    "`super()` je čudna funkcija, ki nam - precej poenostavljeno - vrne `self` *kot da bi bil* objekt razreda, ki je prednik razreda `Student` (torej razreda `Oseba`). Torej, če rečemo `self.pozdravi()` se pokliče metoda `pozdravi`, ki smo jo definirali v razredu `Student`, saj je `self` objekt razreda `Student`. Če pa pokličemo `super().pozdravi()`, se pokliče metoda `pozdravi` razreda `Oseba`, ker je razred `Oseba` prednik razreda `Student`. (Za tiste, ki veste, kaj je večkratno dedovanje: funkcija `super` v resnici vrača nekaj veliko veliko bolj\n",
    "zapletenega, saj je potrebno, kadar dedujemo iz večih razredov, vsakič poiskati, kateri od podedovanih razredov vsebuje funkcijo, ki jo želimo klicati. Če hočete moder nasvet: večkratno dedovanje je gladko tlakovana široka pot v pekel. Izogibajte se ga.)\n",
    "\n",
    "Zdaj lahko končno pogledamo, kaj naredi konstruktor. Poleg `self` dobi še dva argumenta, `ime`, `spol`. Zanju poskrbi stari, podedovani konstruktor, zato ga pokličemo, takole: `super().__init__(ime, spol)`. V novem konstruktorju je potrebno le še pripraviti slovar z ocenami.\n",
    "\n",
    "Pa definirajmo še razred `Ucitelj`. Tudi ta je `Oseba` (ima ime in starost in zna pozdravljati). Ena od njegovih lastnosti je seznam predmetov, ki jih predava."
   ]
  },
  {
   "cell_type": "code",
   "execution_count": 12,
   "metadata": {},
   "outputs": [],
   "source": [
    "class Ucitelj(Oseba):\n",
    "    def __init__(self, ime, spol, predmeti):\n",
    "        super().__init__(ime, spol)\n",
    "        self.predmeti = predmeti\n",
    "        \n",
    "u1 = Ucitelj(\"Tomaž Poljanšek\", \"M\", [\"Programiranje 2\"])"
   ]
  },
  {
   "cell_type": "markdown",
   "metadata": {},
   "source": [
    "Konstruktor nas, upam, ne preseneča več: `ime` in `spol` prepusti podedovanemu konstruktorju, sam pa le še nastavi seznam predmetov.\n",
    "\n",
    "\n",
    "## Kar je, je; česar ni, pa ni\n",
    "\n",
    "Sestavimo funkcijo, ki izpiše imena vseh oseb na podanem seznamu."
   ]
  },
  {
   "cell_type": "code",
   "execution_count": 13,
   "metadata": {},
   "outputs": [],
   "source": [
    "def izpisi_imena(s):\n",
    "    for e in s:\n",
    "        print(e.ime)"
   ]
  },
  {
   "cell_type": "markdown",
   "metadata": {},
   "source": [
    "Pokličemo jo lahko s seznamom študentov."
   ]
  },
  {
   "cell_type": "code",
   "execution_count": 14,
   "metadata": {},
   "outputs": [
    {
     "name": "stdout",
     "output_type": "stream",
     "text": [
      "Ana Karenina\n",
      "Berta Novak\n",
      "Cilka Celarec\n"
     ]
    }
   ],
   "source": [
    "izpisi_imena(studenti)"
   ]
  },
  {
   "cell_type": "markdown",
   "metadata": {},
   "source": [
    "Pokličemo jo lahko tudi s seznamom, v katerem so tako učitelji kot študenti."
   ]
  },
  {
   "cell_type": "code",
   "execution_count": 15,
   "metadata": {},
   "outputs": [
    {
     "name": "stdout",
     "output_type": "stream",
     "text": [
      "Ana Karenina\n",
      "Berta Novak\n",
      "Cilka Celarec\n",
      "Tomaž Poljanšek\n"
     ]
    }
   ],
   "source": [
    "ljudje = [s1, s2, s3, u1]\n",
    "izpisi_imena(ljudje)"
   ]
  },
  {
   "cell_type": "markdown",
   "metadata": {},
   "source": [
    "Pa če imamo kar nek seznam?"
   ]
  },
  {
   "cell_type": "code",
   "execution_count": 16,
   "metadata": {},
   "outputs": [
    {
     "ename": "AttributeError",
     "evalue": "'int' object has no attribute 'ime'",
     "output_type": "error",
     "traceback": [
      "\u001b[0;31m---------------------------------------------------------------------------\u001b[0m",
      "\u001b[0;31mAttributeError\u001b[0m                            Traceback (most recent call last)",
      "\u001b[0;32m<ipython-input-16-4fcdfb3963eb>\u001b[0m in \u001b[0;36m<module>\u001b[0;34m\u001b[0m\n\u001b[1;32m      1\u001b[0m \u001b[0ms\u001b[0m \u001b[0;34m=\u001b[0m \u001b[0;34m[\u001b[0m\u001b[0;36m1\u001b[0m\u001b[0;34m,\u001b[0m \u001b[0;36m2\u001b[0m\u001b[0;34m,\u001b[0m \u001b[0;36m3\u001b[0m\u001b[0;34m]\u001b[0m\u001b[0;34m\u001b[0m\u001b[0;34m\u001b[0m\u001b[0m\n\u001b[0;32m----> 2\u001b[0;31m \u001b[0mizpisi_imena\u001b[0m\u001b[0;34m(\u001b[0m\u001b[0ms\u001b[0m\u001b[0;34m)\u001b[0m\u001b[0;34m\u001b[0m\u001b[0;34m\u001b[0m\u001b[0m\n\u001b[0m",
      "\u001b[0;32m<ipython-input-13-207846f9e46f>\u001b[0m in \u001b[0;36mizpisi_imena\u001b[0;34m(s)\u001b[0m\n\u001b[1;32m      1\u001b[0m \u001b[0;32mdef\u001b[0m \u001b[0mizpisi_imena\u001b[0m\u001b[0;34m(\u001b[0m\u001b[0ms\u001b[0m\u001b[0;34m)\u001b[0m\u001b[0;34m:\u001b[0m\u001b[0;34m\u001b[0m\u001b[0;34m\u001b[0m\u001b[0m\n\u001b[1;32m      2\u001b[0m     \u001b[0;32mfor\u001b[0m \u001b[0me\u001b[0m \u001b[0;32min\u001b[0m \u001b[0ms\u001b[0m\u001b[0;34m:\u001b[0m\u001b[0;34m\u001b[0m\u001b[0;34m\u001b[0m\u001b[0m\n\u001b[0;32m----> 3\u001b[0;31m         \u001b[0mprint\u001b[0m\u001b[0;34m(\u001b[0m\u001b[0me\u001b[0m\u001b[0;34m.\u001b[0m\u001b[0mime\u001b[0m\u001b[0;34m)\u001b[0m\u001b[0;34m\u001b[0m\u001b[0;34m\u001b[0m\u001b[0m\n\u001b[0m",
      "\u001b[0;31mAttributeError\u001b[0m: 'int' object has no attribute 'ime'"
     ]
    }
   ],
   "source": [
    "s = [1, 2, 3]\n",
    "izpisi_imena(s)"
   ]
  },
  {
   "cell_type": "code",
   "execution_count": 17,
   "metadata": {},
   "outputs": [
    {
     "ename": "AttributeError",
     "evalue": "'str' object has no attribute 'ime'",
     "output_type": "error",
     "traceback": [
      "\u001b[0;31m---------------------------------------------------------------------------\u001b[0m",
      "\u001b[0;31mAttributeError\u001b[0m                            Traceback (most recent call last)",
      "\u001b[0;32m<ipython-input-17-54c61afa8ccb>\u001b[0m in \u001b[0;36m<module>\u001b[0;34m\u001b[0m\n\u001b[1;32m      1\u001b[0m \u001b[0ms\u001b[0m \u001b[0;34m=\u001b[0m \u001b[0;34m[\u001b[0m\u001b[0;34m\"Ana\"\u001b[0m\u001b[0;34m,\u001b[0m \u001b[0;34m\"Berta\"\u001b[0m\u001b[0;34m,\u001b[0m \u001b[0;34m\"Cilka\"\u001b[0m\u001b[0;34m]\u001b[0m\u001b[0;34m\u001b[0m\u001b[0;34m\u001b[0m\u001b[0m\n\u001b[0;32m----> 2\u001b[0;31m \u001b[0mizpisi_imena\u001b[0m\u001b[0;34m(\u001b[0m\u001b[0ms\u001b[0m\u001b[0;34m)\u001b[0m\u001b[0;34m\u001b[0m\u001b[0;34m\u001b[0m\u001b[0m\n\u001b[0m",
      "\u001b[0;32m<ipython-input-13-207846f9e46f>\u001b[0m in \u001b[0;36mizpisi_imena\u001b[0;34m(s)\u001b[0m\n\u001b[1;32m      1\u001b[0m \u001b[0;32mdef\u001b[0m \u001b[0mizpisi_imena\u001b[0m\u001b[0;34m(\u001b[0m\u001b[0ms\u001b[0m\u001b[0;34m)\u001b[0m\u001b[0;34m:\u001b[0m\u001b[0;34m\u001b[0m\u001b[0;34m\u001b[0m\u001b[0m\n\u001b[1;32m      2\u001b[0m     \u001b[0;32mfor\u001b[0m \u001b[0me\u001b[0m \u001b[0;32min\u001b[0m \u001b[0ms\u001b[0m\u001b[0;34m:\u001b[0m\u001b[0;34m\u001b[0m\u001b[0;34m\u001b[0m\u001b[0m\n\u001b[0;32m----> 3\u001b[0;31m         \u001b[0mprint\u001b[0m\u001b[0;34m(\u001b[0m\u001b[0me\u001b[0m\u001b[0;34m.\u001b[0m\u001b[0mime\u001b[0m\u001b[0;34m)\u001b[0m\u001b[0;34m\u001b[0m\u001b[0;34m\u001b[0m\u001b[0m\n\u001b[0m",
      "\u001b[0;31mAttributeError\u001b[0m: 'str' object has no attribute 'ime'"
     ]
    }
   ],
   "source": [
    "s = [\"Ana\", \"Berta\", \"Cilka\"]\n",
    "izpisi_imena(s)"
   ]
  },
  {
   "cell_type": "markdown",
   "metadata": {},
   "source": [
    "Ne in ne. Ne s seznamom števil ne s seznamom nizov ni zadovoljna. Čemu ne? No, saj pove: `'int' object has no attribute 'ime'`. Nekje v funkciji piše `e.ime`, pri čemer je `e` element seznama. V prvem primeru to pomeni, da hočemo poklicati `1.ime`, kar je očitno traparija. V\n",
    "drugem hočemo klicati, recimo, `\"Ana\".ime`, kar prav tako ne gre. Ana sicer ni brez vsega, ima celo kup metod - `replace`, `upper`, `endswith` in še desetine drugih - a metode oz. atributa `ime` ni med njimi.\n",
    "\n",
    "Funkcija `izpisi_imena` ima torej določene zahteve: kot argument ji moramo dati seznam (točneje: nekaj, prek česar je mogoče spustiti zanko `for`, recimo seznam) in elementi tega seznama morajo biti objekti, ki imajo polje `ime`. Z drugimi besedami: biti morajo objekti tipa `Oseba`.\n",
    "\n",
    "Res? Pravzaprav ne. Zadošča, da imajo polje `ime`, ni pa treba, da so osebe."
   ]
  },
  {
   "cell_type": "code",
   "execution_count": 18,
   "metadata": {},
   "outputs": [],
   "source": [
    "class KrNeki:\n",
    "    def __init__(self):\n",
    "        self.ime = \"jazbec\""
   ]
  },
  {
   "cell_type": "code",
   "execution_count": 19,
   "metadata": {},
   "outputs": [
    {
     "data": {
      "text/plain": [
       "<__main__.KrNeki at 0x7f8bc08266d0>"
      ]
     },
     "execution_count": 19,
     "metadata": {},
     "output_type": "execute_result"
    }
   ],
   "source": [
    "a, b, c = KrNeki(), KrNeki(), KrNeki()\n",
    "\n",
    "a"
   ]
  },
  {
   "cell_type": "code",
   "execution_count": 20,
   "metadata": {},
   "outputs": [
    {
     "data": {
      "text/plain": [
       "'jazbec'"
      ]
     },
     "execution_count": 20,
     "metadata": {},
     "output_type": "execute_result"
    }
   ],
   "source": [
    "a.ime"
   ]
  },
  {
   "cell_type": "code",
   "execution_count": 21,
   "metadata": {},
   "outputs": [
    {
     "name": "stdout",
     "output_type": "stream",
     "text": [
      "jazbec\n",
      "jazbec\n",
      "jazbec\n"
     ]
    }
   ],
   "source": [
    "izpisi_imena([a, b, c])"
   ]
  },
  {
   "cell_type": "markdown",
   "metadata": {},
   "source": [
    "(Tisti, ki so vajeni takoimenovanih statično tipiziranih jezikov, se zgražajo: funkcija `izpisi_imena` bi morala povedati, kakšnega tipa morajo biti objekti, ki jih sprejme. Tisti, ki imamo radi *tudi* dinamično tipizirane jezike, pa razumemo, zakaj je včasih boljše eno, včasih drugo.)\n",
    "\n",
    "Podobno kot Python se obnašajo tudi drugi jeziki iste sorte, na primer JavaScript (kjer so reči še bolj drastične, saj imamo objektov, nimamo pa razredov!). Temu slogu (ne)preverjanja tipov pravimo [duck typing](http://en.wikipedia.org/wiki/Duck_typing): *When I see a bird that walks like a duck and swims like a duck and quacks like a duck, I call that bird a duck.* Pri tem ni pomembno, ali gre v resnici za raco ali ne; če se objekt vede kot raca, ga lahko obravnavamo kot raco.\n",
    "\n",
    "\n",
    "## Navidezne metode\n",
    "\n",
    "S slednjim je povezana še ena reč, ki je v dinamičnih jezikih precej drugačna kot v statično tipiziranih. (Tisti, ki nimate pojma, o čem govorim, se boste naučili, kako je to v Pythonu in se v drugem semestu čudili Javi. Tisti, ki poznate Javo ali C++ ali C#, pa se boste zdajle čudili Pythonu.)\n",
    "\n",
    "Recimo, da bi imel metodo `naziv`, ki bi vrnila naziv osebe. Naziv osebe je lahko `profesor`, lahko pa je tudi `student` ali `studentka`. Če bi imeli takšno funkcijo, bi lahko pozdrav napisali takole.\n",
    "\n",
    "```python\n",
    "    def pozdravi(self):\n",
    "        print(\"Pozdravljeni, jaz sem {} {}\".format(self.naziv(), self.ime))\n",
    "```\n",
    "\n",
    "Namreč, pred `ime` smo vrinili še `self.naziv()`, metodo, ki je (še?) nimamo in ki bo vrnila naziv.\n",
    "\n",
    "No, pa naredimo, kot smo sklenili: spremenimo metodo `pozdravi` (obenem pa poenostavimo razred `Student`, odvzemimo mu ocene, zato pa tudi ne potrebuje več konstruktorja in ker v tem trenutku nima nobene metode, nekaj pa je znotraj razreda vseeno potrebno napisati, napišimo `pass`). Poglejmo, kaj se zgodi."
   ]
  },
  {
   "cell_type": "code",
   "execution_count": 22,
   "metadata": {},
   "outputs": [],
   "source": [
    "class Oseba:\n",
    "    def __init__(self, ime, spol):\n",
    "        self.ime = ime\n",
    "        self.spol = spol\n",
    "        \n",
    "    def pozdravi(self):\n",
    "        print(\"Pozdravljeni, jaz sem {} {}\".format(self.naziv(), self.ime))\n",
    "        \n",
    "class Student(Oseba):\n",
    "    pass"
   ]
  },
  {
   "cell_type": "code",
   "execution_count": 23,
   "metadata": {},
   "outputs": [],
   "source": [
    "rebeka = Student(\"Rebeka\", \"Z\")"
   ]
  },
  {
   "cell_type": "code",
   "execution_count": 24,
   "metadata": {},
   "outputs": [
    {
     "data": {
      "text/plain": [
       "'Rebeka'"
      ]
     },
     "execution_count": 24,
     "metadata": {},
     "output_type": "execute_result"
    }
   ],
   "source": [
    "rebeka.ime"
   ]
  },
  {
   "cell_type": "code",
   "execution_count": 25,
   "metadata": {},
   "outputs": [
    {
     "ename": "AttributeError",
     "evalue": "'Student' object has no attribute 'naziv'",
     "output_type": "error",
     "traceback": [
      "\u001b[0;31m---------------------------------------------------------------------------\u001b[0m",
      "\u001b[0;31mAttributeError\u001b[0m                            Traceback (most recent call last)",
      "\u001b[0;32m<ipython-input-25-04d7d0f7c1c2>\u001b[0m in \u001b[0;36m<module>\u001b[0;34m\u001b[0m\n\u001b[0;32m----> 1\u001b[0;31m \u001b[0mrebeka\u001b[0m\u001b[0;34m.\u001b[0m\u001b[0mpozdravi\u001b[0m\u001b[0;34m(\u001b[0m\u001b[0;34m)\u001b[0m\u001b[0;34m\u001b[0m\u001b[0;34m\u001b[0m\u001b[0m\n\u001b[0m",
      "\u001b[0;32m<ipython-input-22-80b095f344f1>\u001b[0m in \u001b[0;36mpozdravi\u001b[0;34m(self)\u001b[0m\n\u001b[1;32m      5\u001b[0m \u001b[0;34m\u001b[0m\u001b[0m\n\u001b[1;32m      6\u001b[0m     \u001b[0;32mdef\u001b[0m \u001b[0mpozdravi\u001b[0m\u001b[0;34m(\u001b[0m\u001b[0mself\u001b[0m\u001b[0;34m)\u001b[0m\u001b[0;34m:\u001b[0m\u001b[0;34m\u001b[0m\u001b[0;34m\u001b[0m\u001b[0m\n\u001b[0;32m----> 7\u001b[0;31m         \u001b[0mprint\u001b[0m\u001b[0;34m(\u001b[0m\u001b[0;34m\"Pozdravljeni, jaz sem {} {}\"\u001b[0m\u001b[0;34m.\u001b[0m\u001b[0mformat\u001b[0m\u001b[0;34m(\u001b[0m\u001b[0mself\u001b[0m\u001b[0;34m.\u001b[0m\u001b[0mnaziv\u001b[0m\u001b[0;34m(\u001b[0m\u001b[0;34m)\u001b[0m\u001b[0;34m,\u001b[0m \u001b[0mself\u001b[0m\u001b[0;34m.\u001b[0m\u001b[0mime\u001b[0m\u001b[0;34m)\u001b[0m\u001b[0;34m)\u001b[0m\u001b[0;34m\u001b[0m\u001b[0;34m\u001b[0m\u001b[0m\n\u001b[0m\u001b[1;32m      8\u001b[0m \u001b[0;34m\u001b[0m\u001b[0m\n\u001b[1;32m      9\u001b[0m \u001b[0;32mclass\u001b[0m \u001b[0mStudent\u001b[0m\u001b[0;34m(\u001b[0m\u001b[0mOseba\u001b[0m\u001b[0;34m)\u001b[0m\u001b[0;34m:\u001b[0m\u001b[0;34m\u001b[0m\u001b[0;34m\u001b[0m\u001b[0m\n",
      "\u001b[0;31mAttributeError\u001b[0m: 'Student' object has no attribute 'naziv'"
     ]
    }
   ],
   "source": [
    "rebeka.pozdravi()"
   ]
  },
  {
   "cell_type": "markdown",
   "metadata": {},
   "source": [
    "Rebeko smo uspeli narediti, tudi ime ima, vendar pa javi napako, ko ji rečemo, naj pozdravi: za to bi potrebovala metodo `naziv()`, te pa ni.\n",
    "\n",
    "Metodo `naziv` pa bomo naredili ločeno za študente in za učitelje."
   ]
  },
  {
   "cell_type": "code",
   "execution_count": 26,
   "metadata": {},
   "outputs": [],
   "source": [
    "class Oseba:\n",
    "    def __init__(self, ime, spol):\n",
    "        self.ime = ime\n",
    "        self.spol = spol\n",
    "        \n",
    "    def pozdravi(self):\n",
    "        print(\"Pozdravljeni, jaz sem {} {}\".format(self.naziv(), self.ime))\n",
    "        \n",
    "class Student(Oseba):\n",
    "    def naziv(self):\n",
    "        if self.spol == \"Ž\":\n",
    "            return \"študentka\"\n",
    "        else:\n",
    "            return \"študent\"\n",
    "\n",
    "class Ucitelj(Oseba):\n",
    "    def naziv(self):\n",
    "            if self.spol == \"Z\":\n",
    "                return \"profesorica\"\n",
    "            else:\n",
    "                return \"profesor\""
   ]
  },
  {
   "cell_type": "markdown",
   "metadata": {},
   "source": [
    "Pa poglejmo, kako deluje."
   ]
  },
  {
   "cell_type": "code",
   "execution_count": 27,
   "metadata": {},
   "outputs": [
    {
     "name": "stdout",
     "output_type": "stream",
     "text": [
      "Pozdravljeni, jaz sem študentka Ana Karenina\n"
     ]
    }
   ],
   "source": [
    "s1 = Student(\"Ana Karenina\", \"Ž\")\n",
    "\n",
    "s1.pozdravi()"
   ]
  },
  {
   "cell_type": "code",
   "execution_count": 28,
   "metadata": {},
   "outputs": [
    {
     "name": "stdout",
     "output_type": "stream",
     "text": [
      "Pozdravljeni, jaz sem profesor Tomaz Poljanšek\n"
     ]
    }
   ],
   "source": [
    "u1 = Ucitelj(\"Tomaz Poljanšek\", \"M\")\n",
    "\n",
    "u1.pozdravi()"
   ]
  },
  {
   "cell_type": "markdown",
   "metadata": {},
   "source": [
    "Če pomislimo, kaj se tule v resnici dogaja, je stvar nekoliko fascinantna. Poklicali smo metodo `pozdravi`. Metoda `pozdravi` je podedovana iz `Oseba` - ne `Student` ne `Ucitelj` nimata svoje metode `pozdravi`. Izvaja se torej `pozdravi`, ki je definirana v `Oseba`. In\n",
    "med izvajanjem te metode pokličemo metodo `self.naziv`. V prvem primeru (Ana) je `self` objekt razreda `Student`. Razred `Student` ima metodo `naziv` in ko `pozdravi` pokliče `self.naziv` se torej pokliče `Student`ov naziv. V drugem primeru (Tomaz) je `self` objekt razreda\n",
    "`Ucitelj`, torej je `self.naziv` `Ucitelj`ev `naziv`. Torej: ko `pozdravi` pokliče `self.naziv` to včasih pomeni funkcijo naziv, ki je definirana v `Student`, včasih pa funkcijo `naziv`, ki je definirana v `Ucitelj`.\n",
    "\n",
    "Tako kot je funkcija `izpisi_imena` zahtevala, da imajo vsi objekti na seznamu `ime`, tako metoda `pozdravi` zahteva, da ima `self` metodo `naziv` (ki ne sprejme drugega argumenta kot `self` in ki vrača nekaj, kar se da izpisati...). Odkod se ta `naziv` vzame - je podedovan, je na novo definiran v `self`ovem razredu ali pa je prišel v `self` po kakih drugih, sumljivejših poteh - ji je vseeno. Pomembno je le, da `self.naziv` obstaja.\n",
    "\n",
    "\n",
    "## Abstraktni razredi\n",
    "\n",
    "Kar smo povedali ravnokar, je res res pomembno. To je najpomembnejša reč v objektnem programiranju, zato jo moramo še malo raziskovati."
   ]
  },
  {
   "cell_type": "code",
   "execution_count": 29,
   "metadata": {},
   "outputs": [
    {
     "ename": "AttributeError",
     "evalue": "'Oseba' object has no attribute 'naziv'",
     "output_type": "error",
     "traceback": [
      "\u001b[0;31m---------------------------------------------------------------------------\u001b[0m",
      "\u001b[0;31mAttributeError\u001b[0m                            Traceback (most recent call last)",
      "\u001b[0;32m<ipython-input-29-a47a23fbd476>\u001b[0m in \u001b[0;36m<module>\u001b[0;34m\u001b[0m\n\u001b[1;32m      1\u001b[0m \u001b[0mnekdo\u001b[0m \u001b[0;34m=\u001b[0m \u001b[0mOseba\u001b[0m\u001b[0;34m(\u001b[0m\u001b[0;34m\"Akakij Akakijevič\"\u001b[0m\u001b[0;34m,\u001b[0m \u001b[0;34m\"M\"\u001b[0m\u001b[0;34m)\u001b[0m\u001b[0;34m\u001b[0m\u001b[0;34m\u001b[0m\u001b[0m\n\u001b[1;32m      2\u001b[0m \u001b[0;34m\u001b[0m\u001b[0m\n\u001b[0;32m----> 3\u001b[0;31m \u001b[0mnekdo\u001b[0m\u001b[0;34m.\u001b[0m\u001b[0mpozdravi\u001b[0m\u001b[0;34m(\u001b[0m\u001b[0;34m)\u001b[0m\u001b[0;34m\u001b[0m\u001b[0;34m\u001b[0m\u001b[0m\n\u001b[0m",
      "\u001b[0;32m<ipython-input-26-f11e22da7a6f>\u001b[0m in \u001b[0;36mpozdravi\u001b[0;34m(self)\u001b[0m\n\u001b[1;32m      5\u001b[0m \u001b[0;34m\u001b[0m\u001b[0m\n\u001b[1;32m      6\u001b[0m     \u001b[0;32mdef\u001b[0m \u001b[0mpozdravi\u001b[0m\u001b[0;34m(\u001b[0m\u001b[0mself\u001b[0m\u001b[0;34m)\u001b[0m\u001b[0;34m:\u001b[0m\u001b[0;34m\u001b[0m\u001b[0;34m\u001b[0m\u001b[0m\n\u001b[0;32m----> 7\u001b[0;31m         \u001b[0mprint\u001b[0m\u001b[0;34m(\u001b[0m\u001b[0;34m\"Pozdravljeni, jaz sem {} {}\"\u001b[0m\u001b[0;34m.\u001b[0m\u001b[0mformat\u001b[0m\u001b[0;34m(\u001b[0m\u001b[0mself\u001b[0m\u001b[0;34m.\u001b[0m\u001b[0mnaziv\u001b[0m\u001b[0;34m(\u001b[0m\u001b[0;34m)\u001b[0m\u001b[0;34m,\u001b[0m \u001b[0mself\u001b[0m\u001b[0;34m.\u001b[0m\u001b[0mime\u001b[0m\u001b[0;34m)\u001b[0m\u001b[0;34m)\u001b[0m\u001b[0;34m\u001b[0m\u001b[0;34m\u001b[0m\u001b[0m\n\u001b[0m\u001b[1;32m      8\u001b[0m \u001b[0;34m\u001b[0m\u001b[0m\n\u001b[1;32m      9\u001b[0m \u001b[0;32mclass\u001b[0m \u001b[0mStudent\u001b[0m\u001b[0;34m(\u001b[0m\u001b[0mOseba\u001b[0m\u001b[0;34m)\u001b[0m\u001b[0;34m:\u001b[0m\u001b[0;34m\u001b[0m\u001b[0;34m\u001b[0m\u001b[0m\n",
      "\u001b[0;31mAttributeError\u001b[0m: 'Oseba' object has no attribute 'naziv'"
     ]
    }
   ],
   "source": [
    "nekdo = Oseba(\"Akakij Akakijevič\", \"M\")\n",
    "\n",
    "nekdo.pozdravi()"
   ]
  },
  {
   "cell_type": "markdown",
   "metadata": {},
   "source": [
    "To smo v bistvu že videli zgoraj: študenti niso znali pozdravljati, dokler jim nismo priskrbeli metode `naziv`. A to v bistvu pomeni, da je napaka v razredu `Oseba`, ker zahteva nekaj, česar (potencialno) ni.\n",
    "\n",
    "Temu se ne reče napaka. Temu se reče abstrakten razred. V nekaterih jezikih bi bilo potrebno \"napovedati\" metodo `naziv` kot \"čisto navidezno metodo\" (*pure virtual method*). Razredu `Oseba` bi rekli, da je abstrakten (*abstract class*) in objektov tega razreda ne bi bilo mogoče sestavljati - napako bi dobili že ob klicu `Oseba(\"Akakij Akakijevič\", \"M\")`, češ da takšnih, nepopolnih objektov ne sme biti.\n",
    "\n",
    "V Pythonu in podobnih jezikih ni tako. Razred `Oseba` je okrnjen, vendar bi lahko načelno imel tudi kakšne metode, ki bi normalo delovale. Študenti bi lahko še vedno prejemali ocene, le pozdravljali ne bi.\n",
    "\n",
    "## Navidezne metode - še enkrat\n",
    "\n",
    "Nadaljujmo: dodajmo še en razred. Ali dva."
   ]
  },
  {
   "cell_type": "code",
   "execution_count": 30,
   "metadata": {},
   "outputs": [
    {
     "ename": "AttributeError",
     "evalue": "'Snazilka' object has no attribute 'naziv'",
     "output_type": "error",
     "traceback": [
      "\u001b[0;31m---------------------------------------------------------------------------\u001b[0m",
      "\u001b[0;31mAttributeError\u001b[0m                            Traceback (most recent call last)",
      "\u001b[0;32m<ipython-input-30-6c9c721ce1f8>\u001b[0m in \u001b[0;36m<module>\u001b[0;34m\u001b[0m\n\u001b[1;32m      9\u001b[0m \u001b[0mfata\u001b[0m \u001b[0;34m=\u001b[0m \u001b[0mSnazilka\u001b[0m\u001b[0;34m(\u001b[0m\u001b[0;34m\"Fata\"\u001b[0m\u001b[0;34m)\u001b[0m\u001b[0;34m\u001b[0m\u001b[0;34m\u001b[0m\u001b[0m\n\u001b[1;32m     10\u001b[0m \u001b[0;34m\u001b[0m\u001b[0m\n\u001b[0;32m---> 11\u001b[0;31m \u001b[0mfata\u001b[0m\u001b[0;34m.\u001b[0m\u001b[0mpozdravi\u001b[0m\u001b[0;34m(\u001b[0m\u001b[0;34m)\u001b[0m\u001b[0;34m\u001b[0m\u001b[0;34m\u001b[0m\u001b[0m\n\u001b[0m",
      "\u001b[0;32m<ipython-input-26-f11e22da7a6f>\u001b[0m in \u001b[0;36mpozdravi\u001b[0;34m(self)\u001b[0m\n\u001b[1;32m      5\u001b[0m \u001b[0;34m\u001b[0m\u001b[0m\n\u001b[1;32m      6\u001b[0m     \u001b[0;32mdef\u001b[0m \u001b[0mpozdravi\u001b[0m\u001b[0;34m(\u001b[0m\u001b[0mself\u001b[0m\u001b[0;34m)\u001b[0m\u001b[0;34m:\u001b[0m\u001b[0;34m\u001b[0m\u001b[0;34m\u001b[0m\u001b[0m\n\u001b[0;32m----> 7\u001b[0;31m         \u001b[0mprint\u001b[0m\u001b[0;34m(\u001b[0m\u001b[0;34m\"Pozdravljeni, jaz sem {} {}\"\u001b[0m\u001b[0;34m.\u001b[0m\u001b[0mformat\u001b[0m\u001b[0;34m(\u001b[0m\u001b[0mself\u001b[0m\u001b[0;34m.\u001b[0m\u001b[0mnaziv\u001b[0m\u001b[0;34m(\u001b[0m\u001b[0;34m)\u001b[0m\u001b[0;34m,\u001b[0m \u001b[0mself\u001b[0m\u001b[0;34m.\u001b[0m\u001b[0mime\u001b[0m\u001b[0;34m)\u001b[0m\u001b[0;34m)\u001b[0m\u001b[0;34m\u001b[0m\u001b[0;34m\u001b[0m\u001b[0m\n\u001b[0m\u001b[1;32m      8\u001b[0m \u001b[0;34m\u001b[0m\u001b[0m\n\u001b[1;32m      9\u001b[0m \u001b[0;32mclass\u001b[0m \u001b[0mStudent\u001b[0m\u001b[0;34m(\u001b[0m\u001b[0mOseba\u001b[0m\u001b[0;34m)\u001b[0m\u001b[0;34m:\u001b[0m\u001b[0;34m\u001b[0m\u001b[0;34m\u001b[0m\u001b[0m\n",
      "\u001b[0;31mAttributeError\u001b[0m: 'Snazilka' object has no attribute 'naziv'"
     ]
    }
   ],
   "source": [
    "class Snazilka(Oseba):\n",
    "    def __init__(self, ime):\n",
    "        super().__init__(ime, \"Ž\")\n",
    "        \n",
    "class Hisnik(Oseba):\n",
    "    def __init__(self, ime):\n",
    "        super().__init__(ime, \"M\")\n",
    "        \n",
    "fata = Snazilka(\"Fata\")\n",
    "\n",
    "fata.pozdravi()"
   ]
  },
  {
   "cell_type": "markdown",
   "metadata": {},
   "source": [
    "Da `Snazilka` in `Hisnik` ne znata pozdravljati, je jasno in pričakovano. Ne, ker ne bi znala, le ne vesta, kako bi se predstavila. Podobno bi se zgodilo, ko bi dodali tajnico in osebje študentskega referata.\n",
    "\n",
    "V vsakem jeziku in družbi pa se razvijejo norme naslavljanja neznancev. V davnih časih moje mladosti se je neznancem uradno reklo tovariš in tovarišica (v praksi se je to nanašalo samo na učitelje in učiteljice), danes sta to gospod in gospa. To so privzeti nazivi, odvisno od situacije pa uporabimo drugačnega (doktor, če gre za zdravnika ali koga, ki se je potrudil napisati daljše besedilo, ki je zaradi vezave v črno usnje dajalo vtis pomembnosti; docent, izredni profesor ali profesor za nekoga, ki je naredil vse potrebne kljukice in tako naprej). Vsi, ostali, ki niso nič posebnega, pa so torej gospodje in gospe, zato opremimo `Osebo` s tem, privzetim nazivom."
   ]
  },
  {
   "cell_type": "code",
   "execution_count": 31,
   "metadata": {},
   "outputs": [],
   "source": [
    "class Oseba:\n",
    "    def __init__(self, ime, spol):\n",
    "        self.ime = ime\n",
    "        self.spol = spol\n",
    "        \n",
    "    def pozdravi(self):\n",
    "        print(\"Pozdravljeni, jaz sem {} {}.\".format(self.naziv(), self.ime))\n",
    "        \n",
    "    def naziv(self):\n",
    "        if self.spol == \"Ž\":\n",
    "            return \"gospa\"\n",
    "        else:\n",
    "            return \"gospod\"\n",
    "        \n",
    "class Student(Oseba):\n",
    "    def naziv(self):\n",
    "        if self.spol == \"Ž\":\n",
    "            return \"študentka\"\n",
    "        else:\n",
    "            return \"študent\"\n",
    "\n",
    "class Ucitelj(Oseba):\n",
    "    def naziv(self):\n",
    "            if self.spol == \"Z\":\n",
    "                return \"profesorica\"\n",
    "            else:\n",
    "                return \"profesor\"\n",
    "\n",
    "class Snazilka(Oseba):\n",
    "    def __init__(self, ime):\n",
    "        super().__init__(ime, \"Ž\")\n",
    "        \n",
    "class Hisnik(Oseba):\n",
    "    def __init__(self, ime):\n",
    "        super().__init__(ime, \"M\")"
   ]
  },
  {
   "cell_type": "markdown",
   "metadata": {},
   "source": [
    "Poselimo fakulteto."
   ]
  },
  {
   "cell_type": "code",
   "execution_count": 32,
   "metadata": {},
   "outputs": [],
   "source": [
    "ana = Student(\"Ana Karenina\", \"Ž\")\n",
    "tomaz = Ucitelj(\"Tomaž Poljanšek\", \"M\")\n",
    "fata = Snazilka(\"Fata\")\n",
    "joze = Hisnik(\"Jože\")"
   ]
  },
  {
   "cell_type": "markdown",
   "metadata": {},
   "source": [
    "Vsi so vljudni in se lepo pozdravljajo."
   ]
  },
  {
   "cell_type": "code",
   "execution_count": 33,
   "metadata": {},
   "outputs": [
    {
     "name": "stdout",
     "output_type": "stream",
     "text": [
      "Pozdravljeni, jaz sem študentka Ana Karenina.\n"
     ]
    }
   ],
   "source": [
    "ana.pozdravi()"
   ]
  },
  {
   "cell_type": "code",
   "execution_count": 34,
   "metadata": {},
   "outputs": [
    {
     "name": "stdout",
     "output_type": "stream",
     "text": [
      "Pozdravljeni, jaz sem profesor Tomaž Poljanšek.\n"
     ]
    }
   ],
   "source": [
    "tomaz.pozdravi()"
   ]
  },
  {
   "cell_type": "code",
   "execution_count": 35,
   "metadata": {},
   "outputs": [
    {
     "name": "stdout",
     "output_type": "stream",
     "text": [
      "Pozdravljeni, jaz sem gospa Fata.\n"
     ]
    }
   ],
   "source": [
    "fata.pozdravi()"
   ]
  },
  {
   "cell_type": "code",
   "execution_count": 36,
   "metadata": {},
   "outputs": [
    {
     "name": "stdout",
     "output_type": "stream",
     "text": [
      "Pozdravljeni, jaz sem gospod Jože.\n"
     ]
    }
   ],
   "source": [
    "joze.pozdravi()"
   ]
  },
  {
   "cell_type": "markdown",
   "metadata": {},
   "source": [
    "`ana.pozdravi()` pokliče Osebin `pozdravi` (temu bomo poslej rekli `Oseba.pozdravi`; to v resnici obstaja, Pythonu lahko zares napišemo `Oseba.pozdravi`, a to, kar v tem primeru dobimo, je nekoliko težko razložiti). Torej `ana.pozdravi()` pokliče metodo `Oseba.pozdravi`. Le-ta kliče `self.naziv`. Ker je `self` isto kot `ana`, `ana` pa je *objekt tipa* (ali, kot sem govoril prej, *razreda* - stvar navade) `Student`, `self.naziv` pomeni `ana.naziv`, torej\n",
    "`Student.naziv`. Rezultat je niz \"studentka\".\n",
    "\n",
    "`dani.pozdravi()` pokliče `Oseba.pozdravi`. Le-ta spet kliče `self.naziv`. Ker je `self` isto kot `dani`, `dani` pa je *objekt tipa* `Ucitelj`, `self.naziv` pomeni `Ucitelj.naziv`. Rezultat je niz \"profesor\", saj `dani.naziv()` vrne `\"profesor\"`.\n",
    "\n",
    "*And now for something completely different.* `fata.pozdravi()` pokliče `Oseba.pozdravi`. Le-ta spet kliče `self.naziv`. Ker je `self` isto kot `fata`, `fata` pa je *objekt tipa* `Snazilka`, `self.naziv` pomeni `Snazilka.naziv`. Tega pa ni! Pač pa ima `fata` naziv, ki ga je podedovala od `Oseba`, namreč `Oseba.naziv`. In ta pravi, da je Fata gospa.\n",
    "\n",
    "## O Nepythonu\n",
    "\n",
    "Če želimo na tem predavanju vsaj omeniti tudi objektno programiranje na splošno, ne le v Pythonu, moramo povedati za bistveno razliko med objektnim programiranjem v Pythonu (in drugih tipičnih dinamično tipiziranih jezikih (se opravičujem za besednjak), na primer JavaScriptu) in objektnim programiranjem v statično tipiziranih jezikih, na primer C++, Javi in C\\#.\n",
    "\n",
    "Metodam, kakršen je tale `naziv`, pravimo *navidezne metode* (*virtual method*). Za navidezne metode je značilno, da imajo različni podedovani razredi lahko različne metode, pri čemer pa predniki \"vedo\", katero metodo poklicati. Tako `Oseba.pozdrav` včasih pokliče `Oseba.naziv`,\n",
    "včasih `Student.naziv` in včasih `Ucitelj.naziv`. Če bi se pojavil še kak četrti, peti, ali osmi razred s svojim nazivom, bi znal `Oseba.pozdrav` poklicati tudi tega.\n",
    "\n",
    "V Pythonu izraz sam nima pomena (čemu \"navidezna\"?!), pa tudi govoriti o navideznih metodah v Pythonu nima veliko smisla, saj drugačnih metod kot navideznih v Pythonu sploh ni. V večini statično tipiziranih jezikih pa obstajajo tudi \"nenavidezne\" metode. Če `naziv` ne bi bil navidezna metoda, bi `Oseba.pozdrav` vedno poklical `Oseba.naziv`, četudi bi imel objekt, s katerim imamo opravka, svoj, \"specializiran\" `naziv`.\n",
    "\n",
    "Drugo, po čemer se ti jeziki razlikujejo od Pythona (in Javascripta in podobnih), je, da bi, kot smo že omenili, zahtevali, da je `Oseba.naziv` nujno definiran (točneje: deklariran), če hočemo, da `Oseba.pozdrav` kliče `self.naziv` - ne glede na to, ali bi bila to navidezna metoda ali ne. Včasih se zgodi tudi, da funkcije, kakršna je `Oseba.naziv`, sploh ne moremo napisati (ker bi morala delati kaj, česar se z `Osebo` ne da narediti, temveč lahko to delajo šele njeni nasledniki). V tem primeru, uh, bi definirali čisto navidezno metodo (*pure virtual method*), razred `Oseba` bi bila abstraktni razred ... No, boljše, da ne rinemo v to. Vedite le, da nam je v Pythonu prihranjenih veliko komplikacij.\n",
    "\n",
    "Na predavanjih pri Programiranju 1 objektno programiranje v Pythonu popraskamo le po površju. Veliko konceptov, kot na primer statične metode, spremenljivke razreda in podobno, ki ste jih morda srečali v drugih jezikih, pozna tudi Python. Vendar je vse to še pretežko za večino poslušalcev tega predmeta. Te stvari boste spoznavali sproti. Še več pa je tehnik, ki so specifične za Python ali pa jih poznajo le skriptni jeziki. Tudi za te pri Programiranju 1 žal ne bo časa."
   ]
  }
 ],
 "metadata": {
  "kernelspec": {
   "display_name": "Python 3",
   "language": "python",
   "name": "python3"
  },
  "language_info": {
   "codemirror_mode": {
    "name": "ipython",
    "version": 3
   },
   "file_extension": ".py",
   "mimetype": "text/x-python",
   "name": "python",
   "nbconvert_exporter": "python",
   "pygments_lexer": "ipython3",
   "version": "3.7.4"
  }
 },
 "nbformat": 4,
 "nbformat_minor": 4
}
