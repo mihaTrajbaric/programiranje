{
 "cells": [
  {
   "cell_type": "markdown",
   "metadata": {},
   "source": [
    "# Funkcije\n",
    "\n",
    "Funkcije smo si doslej predstavljali kot škatlice: nekaj gre noter (temu smo in bomo rekli *argument*), nekaj pride ven (temu se reče rezultat funkcije), vmes pa se lahko še kaj opaznega dogaja, recimo izpisuje. Primer funkcije, ki je počela vse to, je `input`: kot argument smo ji povedali, kaj naj vpraša uporabnika; kot rezultat je vrnila, kar je vtipkal uporabnik; vmes se je zgodilo to, da je funkcija nekaj vprašala uporabnika in počakala, da je le-ta odgovoril. Druga funkcija, ki smo jo srečali, je bila `sqrt`, ki dobi kot argument neko število in vrne njegov koren. Vmes se ne dogaja nič opaznega, funkcija le \"neopazno\" naredi, kar mora narediti.\n",
    "\n",
    "S tem, kako delujejo funkcije in kako kaj naredijo, se doslej nismo ukvarjali. Te stvari so za nas napisali drugi (hvala, hvala) in mi jih lahko uporabljamo, ne da bi nas vznemirjalo vprašanje, kako so napisane. S tem, kako so napisane funkcije, ki so jih naredili drugi, se tudi v prihodnje ne bomo ukvarjali. Pač pa se bomo danes naučili pisati svoje.\n",
    "\n",
    "## Popolna števila\n",
    "\n",
    "Število je *popolno*, če je enako vsoti svojih deliteljev. 28 je deljivo z 1, 2, 4, 7 in 14 ter je popolno, saj je 1+2+4+7+14 ravno 28. Napišimo program, ki sestavi seznam vseh popolnih števil do 1000.\n",
    "\n",
    "### Delitelji števila\n",
    "\n",
    "Znamo napisati program, ki sestavi seznam vseh deliteljev nekega števila *n*?"
   ]
  },
  {
   "cell_type": "code",
   "execution_count": 1,
   "metadata": {},
   "outputs": [
    {
     "name": "stdout",
     "output_type": "stream",
     "text": [
      "Vnesi število: 42\n",
      "[1, 2, 3, 6, 7, 14, 21]\n"
     ]
    }
   ],
   "source": [
    "n = int(input(\"Vnesi število: \"))\n",
    "s = []\n",
    "for i in range(1, n):\n",
    "    if n % i == 0:\n",
    "        s.append(i)\n",
    "print(s)"
   ]
  },
  {
   "cell_type": "markdown",
   "metadata": {},
   "source": [
    "Najprej naredimo prazen seznam, nato gremo prek vseh števil od 1 do n in če število deli `n`, ga dodamo v `s`.\n",
    "\n",
    "Kaj ne bi bilo lepo, če bi imel Python kar funkcijo `delitelji`, ki bi jo lahko uporabili? Potem bi lahko napisali kar"
   ]
  },
  {
   "cell_type": "code",
   "execution_count": 2,
   "metadata": {},
   "outputs": [
    {
     "name": "stdout",
     "output_type": "stream",
     "text": [
      "Vnesi število: 42\n"
     ]
    },
    {
     "ename": "NameError",
     "evalue": "name 'delitelji' is not defined",
     "output_type": "error",
     "traceback": [
      "\u001b[0;31m---------------------------------------------------------------------------\u001b[0m",
      "\u001b[0;31mNameError\u001b[0m                                 Traceback (most recent call last)",
      "\u001b[0;32m<ipython-input-2-fc5d3539f150>\u001b[0m in \u001b[0;36m<module>\u001b[0;34m\u001b[0m\n\u001b[1;32m      1\u001b[0m \u001b[0mstevilka\u001b[0m \u001b[0;34m=\u001b[0m \u001b[0mint\u001b[0m\u001b[0;34m(\u001b[0m\u001b[0minput\u001b[0m\u001b[0;34m(\u001b[0m\u001b[0;34m\"Vnesi število: \"\u001b[0m\u001b[0;34m)\u001b[0m\u001b[0;34m)\u001b[0m\u001b[0;34m\u001b[0m\u001b[0;34m\u001b[0m\u001b[0m\n\u001b[0;32m----> 2\u001b[0;31m \u001b[0ms\u001b[0m \u001b[0;34m=\u001b[0m \u001b[0mdelitelji\u001b[0m\u001b[0;34m(\u001b[0m\u001b[0mstevilka\u001b[0m\u001b[0;34m)\u001b[0m\u001b[0;34m\u001b[0m\u001b[0;34m\u001b[0m\u001b[0m\n\u001b[0m\u001b[1;32m      3\u001b[0m \u001b[0mprint\u001b[0m\u001b[0;34m(\u001b[0m\u001b[0ms\u001b[0m\u001b[0;34m)\u001b[0m\u001b[0;34m\u001b[0m\u001b[0;34m\u001b[0m\u001b[0m\n",
      "\u001b[0;31mNameError\u001b[0m: name 'delitelji' is not defined"
     ]
    }
   ],
   "source": [
    "stevilka = int(input(\"Vnesi število: \"))\n",
    "s = delitelji(stevilka)\n",
    "print(s)"
   ]
  },
  {
   "cell_type": "markdown",
   "metadata": {},
   "source": [
    "Kot je povsem pravilno predlagal profesor Franc Oblak: *česar ni, se pa nardi* (ter v sredo polinoma, ki se ga na noben način ni dalo razcepiti, dodal \"$+ x - x$\" in polinom je šel na faktorje kot toplo maslo). Napišimo si takšno funkcijo, da jo bomo lahko klicali."
   ]
  },
  {
   "cell_type": "code",
   "execution_count": 3,
   "metadata": {},
   "outputs": [],
   "source": [
    "def delitelji(n):\n",
    "    s = []\n",
    "    for i in range(1, n):\n",
    "        if n % i == 0:\n",
    "            s.append(i)\n",
    "    return s"
   ]
  },
  {
   "cell_type": "markdown",
   "metadata": {},
   "source": [
    "Definicijo funkcije začnemo z `def`; to je rezervirana beseda, ki pomeni, da to, kar sledi, ni \"program, ki ga je treba takoj izvesti\", temveč funkcija. Z drugimi besedami, `def delitelji` pomeni: \"*kadar bo kdo poklical funkcijo `delitelji`, naredi naslednje:*\".\n",
    "\n",
    "Imenu sledijo oklepaji, v katerih navedemo *imena argumentov funkcije*. V našem primeru bo funkcija zahtevala en argument. Torej, ta, ki bo poklical funkcijo, bo moral v oklepaje napisati eno reč (upamo, da bo napisal število, sicer pa naj si sam pripiše posledice).\n",
    "\n",
    "Tista reč, ki jo bomo ob klicu funkcije podali kot argument, se bo znotraj funkcije pojavila kot spremenljivka z imenom `n`. Takšno ime smo namreč uporabili v prvi vrstici, v \"glavi\" funkcije. Vrednosti ji ne bomo priredili: ko bo nekdo poklical funkcijo, bo Python tej \"spremenljivki\" kar sam od sebe priredil vrednost, ki jo bo \"klicatelj\" napisal kot argument funkcije. Če torej nekdo pokliče"
   ]
  },
  {
   "cell_type": "code",
   "execution_count": 4,
   "metadata": {},
   "outputs": [
    {
     "data": {
      "text/plain": [
       "[1, 5, 7]"
      ]
     },
     "execution_count": 4,
     "metadata": {},
     "output_type": "execute_result"
    }
   ],
   "source": [
    "delitelji(35)"
   ]
  },
  {
   "cell_type": "markdown",
   "metadata": {},
   "source": [
    "bo imel `n` vrednost 35 in če pokliče"
   ]
  },
  {
   "cell_type": "code",
   "execution_count": 5,
   "metadata": {},
   "outputs": [
    {
     "data": {
      "text/plain": [
       "[1]"
      ]
     },
     "execution_count": 5,
     "metadata": {},
     "output_type": "execute_result"
    }
   ],
   "source": [
    "delitelji(13)"
   ]
  },
  {
   "cell_type": "markdown",
   "metadata": {},
   "source": [
    "`n` ima vrednost argumenta.\n",
    "\n",
    "Za `def delitelji(n)` sledi dvopičje in zamik. Vse, kar sledi takole zamaknjeno, je koda funkcije. Kaj mora narediti le-ta? No, tisto, kar pač dela funkcija: sestaviti seznam deliteljev `n`. To pa ne le znamo narediti, temveč smo celo ravno prejle tudi zares naredili in lahko le skopiramo.\n",
    "\n",
    "Na koncu (ali tudi že kje vmes - bomo že videli primer) funkcija pove, kaj naj klicatelj dobi kot rezultat. To stori s stavkom `return s`.\n",
    "\n",
    "### Geometrija\n",
    "\n",
    "Napišimo funkcijo, ki dobi kot argument dolžine stranic trikotnika in vrne njegovo ploščino. Ta funkcija bo imela tri argumente; poimenujmo jih `a`, `b` in `c`."
   ]
  },
  {
   "cell_type": "code",
   "execution_count": 6,
   "metadata": {},
   "outputs": [],
   "source": [
    "from math import *\n",
    "def ploscina_trikotnika(a, b, c):\n",
    "    s = (a + b + c) / 2\n",
    "    return sqrt(s * (s - a) * (s - b) * (s - c))"
   ]
  },
  {
   "cell_type": "markdown",
   "metadata": {},
   "source": [
    "Ko smo pri tem, napišimo še funkcijo funkcijo za obseg trikotnika ter za obseg in ploščino kroga."
   ]
  },
  {
   "cell_type": "code",
   "execution_count": 7,
   "metadata": {},
   "outputs": [],
   "source": [
    "from math import *\n",
    "\n",
    "def obseg_trikotnika(a, b, c):\n",
    "    return a + b + c\n",
    "\n",
    "def ploscina_kroga(r):\n",
    "    return pi * r ** 2\n",
    "\n",
    "def obseg_kroga(r):\n",
    "    return 2 * pi * r"
   ]
  },
  {
   "cell_type": "markdown",
   "metadata": {},
   "source": [
    "### Vsota števil v seznamu\n",
    "\n",
    "Zdaj napišimo drugo funkcijo: funkcijo, ki dobi seznam števil in izračuna njihovo vsoto."
   ]
  },
  {
   "cell_type": "code",
   "execution_count": 8,
   "metadata": {},
   "outputs": [],
   "source": [
    "def vsota(s):\n",
    "    vsota = 0\n",
    "    for e in s:\n",
    "        vsota += e\n",
    "    return vsota"
   ]
  },
  {
   "cell_type": "markdown",
   "metadata": {},
   "source": [
    "Funkcija ima spet en argument, tokrat smo ga poimenovali `s`. Ta argument bo seznam števil, ki jih je potrebno sešteti. Funkcija gre - z zanko `for` - prek tega seznama in sešteva, kot smo počeli že prejšnji teden, le brez funkcij. Na koncu rezultata ne izpiše (`print`), kot smo delali doslej, temveč ga vrne (`return`).\n",
    "\n",
    "(Mimogrede povejmo še, da nam funkcije `vsota` ne bi bilo potrebno napisati, saj obstaja: imenuje se `sum`.)\n",
    "\n",
    "#### Za napredno misleče\n",
    "\n",
    "Nekateri se sprašujejo, kako funkcija ve, kakšnega tipa bodo argumenti, ki jih bo dobila. Nekateri se zdaj, ko so izvedeli, da se nekateri sprašujejo o tem, sprašujejo, zakaj bi se kdo to spraševal. Vsebina tega razdelka je namenjena predvsem prvim.\n",
    "\n",
    "V nekaterih jezikih je potrebno za vsako spremenljivko, preden jo uporabimo, povedati, kakšnega tipa bo. Python ni eden izmed njih. Podobno je z argumenti funkcij. V nekaterih jezikih bi morali povedati, kakšnega tipa bodo argumenti funkcije in kakšen bo rezultat. Tudi takšen Python ni. Funkcija sprejme, kar sprejme in vrača, kar vrača.\n",
    "\n",
    "Za primer vzemimo preprostejšo funkcijo `sestej`, ki ji podamo dva argumenta, funkcija pa vrne njuno vsoto."
   ]
  },
  {
   "cell_type": "code",
   "execution_count": 9,
   "metadata": {},
   "outputs": [],
   "source": [
    "def sestej(a, b):\n",
    "    return a + b"
   ]
  },
  {
   "cell_type": "markdown",
   "metadata": {},
   "source": [
    "Preskusimo jo."
   ]
  },
  {
   "cell_type": "code",
   "execution_count": 10,
   "metadata": {},
   "outputs": [
    {
     "data": {
      "text/plain": [
       "6"
      ]
     },
     "execution_count": 10,
     "metadata": {},
     "output_type": "execute_result"
    }
   ],
   "source": [
    "sestej(1, 5)"
   ]
  },
  {
   "cell_type": "code",
   "execution_count": 11,
   "metadata": {},
   "outputs": [
    {
     "data": {
      "text/plain": [
       "'Anamarija'"
      ]
     },
     "execution_count": 11,
     "metadata": {},
     "output_type": "execute_result"
    }
   ],
   "source": [
    "sestej(\"Ana\", \"marija\")"
   ]
  },
  {
   "cell_type": "code",
   "execution_count": 12,
   "metadata": {},
   "outputs": [
    {
     "ename": "TypeError",
     "evalue": "unsupported operand type(s) for +: 'int' and 'str'",
     "output_type": "error",
     "traceback": [
      "\u001b[0;31m---------------------------------------------------------------------------\u001b[0m",
      "\u001b[0;31mTypeError\u001b[0m                                 Traceback (most recent call last)",
      "\u001b[0;32m<ipython-input-12-27cd999b26a0>\u001b[0m in \u001b[0;36m<module>\u001b[0;34m\u001b[0m\n\u001b[0;32m----> 1\u001b[0;31m \u001b[0msestej\u001b[0m\u001b[0;34m(\u001b[0m\u001b[0;36m1\u001b[0m\u001b[0;34m,\u001b[0m \u001b[0;34m\"Ana\"\u001b[0m\u001b[0;34m)\u001b[0m\u001b[0;34m\u001b[0m\u001b[0;34m\u001b[0m\u001b[0m\n\u001b[0m",
      "\u001b[0;32m<ipython-input-9-7e63af8aa86d>\u001b[0m in \u001b[0;36msestej\u001b[0;34m(a, b)\u001b[0m\n\u001b[1;32m      1\u001b[0m \u001b[0;32mdef\u001b[0m \u001b[0msestej\u001b[0m\u001b[0;34m(\u001b[0m\u001b[0ma\u001b[0m\u001b[0;34m,\u001b[0m \u001b[0mb\u001b[0m\u001b[0;34m)\u001b[0m\u001b[0;34m:\u001b[0m\u001b[0;34m\u001b[0m\u001b[0;34m\u001b[0m\u001b[0m\n\u001b[0;32m----> 2\u001b[0;31m     \u001b[0;32mreturn\u001b[0m \u001b[0ma\u001b[0m \u001b[0;34m+\u001b[0m \u001b[0mb\u001b[0m\u001b[0;34m\u001b[0m\u001b[0;34m\u001b[0m\u001b[0m\n\u001b[0m",
      "\u001b[0;31mTypeError\u001b[0m: unsupported operand type(s) for +: 'int' and 'str'"
     ]
    }
   ],
   "source": [
    "sestej(1, \"Ana\")"
   ]
  },
  {
   "cell_type": "markdown",
   "metadata": {},
   "source": [
    "Funkcija se ne ukvarja s tipom argumentov. Pač pa se s tem ukvarja `+`. Če ga pokličemo s čim, česar se ne da seštevati, javi napako.\n",
    "\n",
    "V resnici je stvar še lepša. Ko Python pride do `a + b`, reče objektoma `a` in `b`, naj se seštejeta. Če se znata, je to v redu, če ne, pa javita napako in Python jo izpiše. Python v resnici ne zna seštevati, seštevati (se) znajo objekti. Operator `+` ne obstaja.\n",
    "\n",
    "Vrnimo se k funkciji `vsota`, oni od prej. Kaj bi se zgodilo, če bi dali funkciji namesto seznama kaj drugega, recimo terko ali kaj podobnega? No, preskusimo jo."
   ]
  },
  {
   "cell_type": "code",
   "execution_count": 13,
   "metadata": {},
   "outputs": [
    {
     "data": {
      "text/plain": [
       "6"
      ]
     },
     "execution_count": 13,
     "metadata": {},
     "output_type": "execute_result"
    }
   ],
   "source": [
    "vsota([1, 2, 3])"
   ]
  },
  {
   "cell_type": "code",
   "execution_count": 14,
   "metadata": {},
   "outputs": [
    {
     "data": {
      "text/plain": [
       "6"
      ]
     },
     "execution_count": 14,
     "metadata": {},
     "output_type": "execute_result"
    }
   ],
   "source": [
    "vsota((1, 2, 3))"
   ]
  },
  {
   "cell_type": "code",
   "execution_count": 15,
   "metadata": {},
   "outputs": [
    {
     "data": {
      "text/plain": [
       "6"
      ]
     },
     "execution_count": 15,
     "metadata": {},
     "output_type": "execute_result"
    }
   ],
   "source": [
    "vsota(range(4))"
   ]
  },
  {
   "cell_type": "markdown",
   "metadata": {},
   "source": [
    "S seznamom dela. Prvi klic pomeni isto, kot če bi napisali:"
   ]
  },
  {
   "cell_type": "code",
   "execution_count": 16,
   "metadata": {},
   "outputs": [],
   "source": [
    "v = 0\n",
    "for e in [1, 5, 3]:\n",
    "    v += e"
   ]
  },
  {
   "cell_type": "markdown",
   "metadata": {},
   "source": [
    "Drugi klic je podoben, le da je `s` zdaj terka `(1, 5, 3)`, torej dobimo"
   ]
  },
  {
   "cell_type": "code",
   "execution_count": 17,
   "metadata": {},
   "outputs": [],
   "source": [
    "v = 0\n",
    "for e in (1, 5, 2):\n",
    "    v += e"
   ]
  },
  {
   "cell_type": "markdown",
   "metadata": {},
   "source": [
    "Tretji klic pa je isto, kot če bi napisali"
   ]
  },
  {
   "cell_type": "code",
   "execution_count": 18,
   "metadata": {},
   "outputs": [],
   "source": [
    "v = 0\n",
    "for e in range(4):\n",
    "    v += e"
   ]
  },
  {
   "cell_type": "markdown",
   "metadata": {},
   "source": [
    "Kaj pa, če bi namesto seznama celih števil podali seznam necelih?"
   ]
  },
  {
   "cell_type": "code",
   "execution_count": 19,
   "metadata": {},
   "outputs": [
    {
     "data": {
      "text/plain": [
       "6.6"
      ]
     },
     "execution_count": 19,
     "metadata": {},
     "output_type": "execute_result"
    }
   ],
   "source": [
    "vsota([1.3, 2.2, 3.1])"
   ]
  },
  {
   "cell_type": "markdown",
   "metadata": {},
   "source": [
    "Dela, jasno. Zakaj pa ne bi?\n",
    "\n",
    "Kaj pa, če bi dali seznam nizov? Poglejmo, poučno bo."
   ]
  },
  {
   "cell_type": "code",
   "execution_count": 20,
   "metadata": {},
   "outputs": [
    {
     "ename": "TypeError",
     "evalue": "unsupported operand type(s) for +=: 'int' and 'str'",
     "output_type": "error",
     "traceback": [
      "\u001b[0;31m---------------------------------------------------------------------------\u001b[0m",
      "\u001b[0;31mTypeError\u001b[0m                                 Traceback (most recent call last)",
      "\u001b[0;32m<ipython-input-20-3951a9717356>\u001b[0m in \u001b[0;36m<module>\u001b[0;34m\u001b[0m\n\u001b[0;32m----> 1\u001b[0;31m \u001b[0mvsota\u001b[0m\u001b[0;34m(\u001b[0m\u001b[0;34m[\u001b[0m\u001b[0;34m\"Ana\"\u001b[0m\u001b[0;34m,\u001b[0m \u001b[0;34m\"Berta\"\u001b[0m\u001b[0;34m,\u001b[0m \u001b[0;34m\"Cilka\"\u001b[0m\u001b[0;34m]\u001b[0m\u001b[0;34m)\u001b[0m\u001b[0;34m\u001b[0m\u001b[0;34m\u001b[0m\u001b[0m\n\u001b[0m",
      "\u001b[0;32m<ipython-input-8-829f2145b967>\u001b[0m in \u001b[0;36mvsota\u001b[0;34m(s)\u001b[0m\n\u001b[1;32m      2\u001b[0m     \u001b[0mvsota\u001b[0m \u001b[0;34m=\u001b[0m \u001b[0;36m0\u001b[0m\u001b[0;34m\u001b[0m\u001b[0;34m\u001b[0m\u001b[0m\n\u001b[1;32m      3\u001b[0m     \u001b[0;32mfor\u001b[0m \u001b[0me\u001b[0m \u001b[0;32min\u001b[0m \u001b[0ms\u001b[0m\u001b[0;34m:\u001b[0m\u001b[0;34m\u001b[0m\u001b[0;34m\u001b[0m\u001b[0m\n\u001b[0;32m----> 4\u001b[0;31m         \u001b[0mvsota\u001b[0m \u001b[0;34m+=\u001b[0m \u001b[0me\u001b[0m\u001b[0;34m\u001b[0m\u001b[0;34m\u001b[0m\u001b[0m\n\u001b[0m\u001b[1;32m      5\u001b[0m     \u001b[0;32mreturn\u001b[0m \u001b[0mvsota\u001b[0m\u001b[0;34m\u001b[0m\u001b[0;34m\u001b[0m\u001b[0m\n",
      "\u001b[0;31mTypeError\u001b[0m: unsupported operand type(s) for +=: 'int' and 'str'"
     ]
    }
   ],
   "source": [
    "vsota([\"Ana\", \"Berta\", \"Cilka\"])"
   ]
  },
  {
   "cell_type": "markdown",
   "metadata": {},
   "source": [
    "Zgodi se tole. Najprej je `v` enak 0. V prvem koraku zanke poskuša\n",
    "izračunati `0 + \"Ana\"`, kar se ne da.\n",
    "\n",
    "Funkcijo je mogoče popraviti, da bo delovala tudi za nize."
   ]
  },
  {
   "cell_type": "code",
   "execution_count": 21,
   "metadata": {},
   "outputs": [],
   "source": [
    "def vsota(s):\n",
    "    v = None\n",
    "    for e in s:\n",
    "        if v == None:\n",
    "            v = e\n",
    "        else:\n",
    "            v += e\n",
    "    return v"
   ]
  },
  {
   "cell_type": "markdown",
   "metadata": {},
   "source": [
    "`v`-ju moramo v začetku dati neko vrednost, ki bo povedala, da še nima nobene vrednosti. Tipično delo za `None`. V zanki preverimo, ali je `v` še vedno `None` in mu v tem primeru *priredimo* `e`, sicer pa mu *prištejemo* `e`.\n",
    "\n",
    "Zdaj bo `v` gotovo pravega tipa in funkcija bo znala seštevati vse živo."
   ]
  },
  {
   "cell_type": "code",
   "execution_count": 22,
   "metadata": {},
   "outputs": [
    {
     "data": {
      "text/plain": [
       "6"
      ]
     },
     "execution_count": 22,
     "metadata": {},
     "output_type": "execute_result"
    }
   ],
   "source": [
    "vsota([1, 2, 3])"
   ]
  },
  {
   "cell_type": "code",
   "execution_count": 23,
   "metadata": {},
   "outputs": [
    {
     "data": {
      "text/plain": [
       "6"
      ]
     },
     "execution_count": 23,
     "metadata": {},
     "output_type": "execute_result"
    }
   ],
   "source": [
    "vsota(range(4))"
   ]
  },
  {
   "cell_type": "code",
   "execution_count": 24,
   "metadata": {},
   "outputs": [
    {
     "data": {
      "text/plain": [
       "'AnaBertaCilka'"
      ]
     },
     "execution_count": 24,
     "metadata": {},
     "output_type": "execute_result"
    }
   ],
   "source": [
    "vsota([\"Ana\", \"Berta\", \"Cilka\"])"
   ]
  },
  {
   "cell_type": "markdown",
   "metadata": {},
   "source": [
    "Kaj pa tole?"
   ]
  },
  {
   "cell_type": "code",
   "execution_count": 25,
   "metadata": {},
   "outputs": [
    {
     "data": {
      "text/plain": [
       "'Benjamin'"
      ]
     },
     "execution_count": 25,
     "metadata": {},
     "output_type": "execute_result"
    }
   ],
   "source": [
    "vsota(\"Benjamin\")"
   ]
  },
  {
   "cell_type": "markdown",
   "metadata": {},
   "source": [
    "Zanka `for` gre prek niza in sešteje njegove črke. Rezultat je, seveda,\n",
    "spet isti niz.\n",
    "\n",
    "Pač pa funkcija ne deluje, če ji damo seznam, ki vsebuje reči, ki jih ni\n",
    "mogoče sešteti."
   ]
  },
  {
   "cell_type": "code",
   "execution_count": 26,
   "metadata": {},
   "outputs": [
    {
     "ename": "TypeError",
     "evalue": "unsupported operand type(s) for +=: 'int' and 'str'",
     "output_type": "error",
     "traceback": [
      "\u001b[0;31m---------------------------------------------------------------------------\u001b[0m",
      "\u001b[0;31mTypeError\u001b[0m                                 Traceback (most recent call last)",
      "\u001b[0;32m<ipython-input-26-cb5caf960439>\u001b[0m in \u001b[0;36m<module>\u001b[0;34m\u001b[0m\n\u001b[0;32m----> 1\u001b[0;31m \u001b[0mvsota\u001b[0m\u001b[0;34m(\u001b[0m\u001b[0;34m[\u001b[0m\u001b[0;36m1\u001b[0m\u001b[0;34m,\u001b[0m \u001b[0;34m\"a\"\u001b[0m\u001b[0;34m]\u001b[0m\u001b[0;34m)\u001b[0m\u001b[0;34m\u001b[0m\u001b[0;34m\u001b[0m\u001b[0m\n\u001b[0m",
      "\u001b[0;32m<ipython-input-21-31fd070ab5a0>\u001b[0m in \u001b[0;36mvsota\u001b[0;34m(s)\u001b[0m\n\u001b[1;32m      5\u001b[0m             \u001b[0mv\u001b[0m \u001b[0;34m=\u001b[0m \u001b[0me\u001b[0m\u001b[0;34m\u001b[0m\u001b[0;34m\u001b[0m\u001b[0m\n\u001b[1;32m      6\u001b[0m         \u001b[0;32melse\u001b[0m\u001b[0;34m:\u001b[0m\u001b[0;34m\u001b[0m\u001b[0;34m\u001b[0m\u001b[0m\n\u001b[0;32m----> 7\u001b[0;31m             \u001b[0mv\u001b[0m \u001b[0;34m+=\u001b[0m \u001b[0me\u001b[0m\u001b[0;34m\u001b[0m\u001b[0;34m\u001b[0m\u001b[0m\n\u001b[0m\u001b[1;32m      8\u001b[0m     \u001b[0;32mreturn\u001b[0m \u001b[0mv\u001b[0m\u001b[0;34m\u001b[0m\u001b[0;34m\u001b[0m\u001b[0m\n",
      "\u001b[0;31mTypeError\u001b[0m: unsupported operand type(s) for +=: 'int' and 'str'"
     ]
    }
   ],
   "source": [
    "vsota([1, \"a\"])"
   ]
  },
  {
   "cell_type": "markdown",
   "metadata": {},
   "source": [
    "### Popolno število\n",
    "\n",
    "Vrnimo se k popolnim številom. Rekli smo, da je število popolno, če je\n",
    "enako vsoti svojih deliteljev. Lahko bi torej rekli"
   ]
  },
  {
   "cell_type": "code",
   "execution_count": 28,
   "metadata": {},
   "outputs": [
    {
     "name": "stdout",
     "output_type": "stream",
     "text": [
      "Vnesi število: 28\n",
      "Število 28 je popolno\n"
     ]
    }
   ],
   "source": [
    "stevilo = int(input(\"Vnesi število: \"))\n",
    "d = delitelji(stevilo)\n",
    "v = vsota(d)\n",
    "if v == stevilo:\n",
    "    print(\"Število\", stevilo, \"je popolno\")\n",
    "else:\n",
    "    print(\"Število\", stevilo, \"ni popolno\")"
   ]
  },
  {
   "cell_type": "markdown",
   "metadata": {},
   "source": [
    "vendar ne bomo. Napisali bomo funkcijo, ki vrne `True`, če je število popolno in `False`, če ni."
   ]
  },
  {
   "cell_type": "code",
   "execution_count": 29,
   "metadata": {},
   "outputs": [],
   "source": [
    "def popolno(n):\n",
    "    d = delitelji(n)\n",
    "    v = vsota(d)\n",
    "    return v == n"
   ]
  },
  {
   "cell_type": "markdown",
   "metadata": {},
   "source": [
    "Pazite, tule nismo pisali"
   ]
  },
  {
   "cell_type": "code",
   "execution_count": 30,
   "metadata": {},
   "outputs": [],
   "source": [
    "def popolno(n):\n",
    "    d = delitelji(n)\n",
    "    v = vsota(d)\n",
    "    if v == n:\n",
    "        return True\n",
    "    else:\n",
    "        return False"
   ]
  },
  {
   "cell_type": "markdown",
   "metadata": {},
   "source": [
    "Lahko bi, vendar bi bilo smešno. Pač pa lahko funkcijo še skrajšamo (in\n",
    "navadno bi jo tudi res), takole"
   ]
  },
  {
   "cell_type": "code",
   "execution_count": 31,
   "metadata": {},
   "outputs": [],
   "source": [
    "def popolno(n):\n",
    "    return vsota(delitelji(n)) == n"
   ]
  },
  {
   "cell_type": "markdown",
   "metadata": {},
   "source": [
    "Končno ostane še program, ki bo z uporabo gornje funkcije sestavil\n",
    "seznam vseh popolnih števil manjših od 1000. V njem z zanko `for`\n",
    "preštejemo do 1000, za vsako število posebej preverimo, ali je popolno\n",
    "in če je, ga dodamo na seznam."
   ]
  },
  {
   "cell_type": "code",
   "execution_count": 32,
   "metadata": {},
   "outputs": [
    {
     "name": "stdout",
     "output_type": "stream",
     "text": [
      "[6, 28, 496]\n"
     ]
    }
   ],
   "source": [
    "s = []\n",
    "for i in range(1, 1001):\n",
    "    if popolno(i):\n",
    "        s.append(i)\n",
    "print(s)"
   ]
  },
  {
   "cell_type": "markdown",
   "metadata": {},
   "source": [
    "Lepo prosim, ne pišite `if popolno(i) == True:`. Smo že povedali, zakaj,\n",
    "ne?\n",
    "\n",
    "## Klici funkcij\n",
    "\n",
    "Najprej zberimo vse skupaj:"
   ]
  },
  {
   "cell_type": "code",
   "execution_count": 33,
   "metadata": {},
   "outputs": [
    {
     "name": "stdout",
     "output_type": "stream",
     "text": [
      "[6, 28, 496]\n"
     ]
    }
   ],
   "source": [
    "def delitelji(n):\n",
    "    s = []\n",
    "    for i in range(1, n):\n",
    "        if n % i == 0:\n",
    "            s.append(i)\n",
    "    return s\n",
    "\n",
    "def vsota(s):\n",
    "    v = 0\n",
    "    for e in s:\n",
    "        v += e\n",
    "    return v\n",
    "\n",
    "def popolno(n):\n",
    "    d = delitelji(n)\n",
    "    v = vsota(d)\n",
    "    return v == n\n",
    "\n",
    "\n",
    "s = []\n",
    "for i in range(1, 1001):\n",
    "    if popolno(i):\n",
    "        s.append(i)\n",
    "print(s)"
   ]
  },
  {
   "cell_type": "markdown",
   "metadata": {},
   "source": [
    "Kako se izvaja tako napisan program? Malo drugače, kot smo vajeni. Začetek programa - vse do mesta `s = []`, so definicije funkcij. Python tega dela programa ne izvede, le zapomni si funkcije, da jih bo kasneje lahko poklical. Stvari se začnejo zares dogajati šele, pri `s = []`. Ko program pride do klica funkcije `popolno`, skoči v to funkcijo -- vendar si zapomni, odkod je skočil, tako da se bo kasneje lahko vrnil na to mesto.\n",
    "\n",
    "Prav. Zdaj smo v funkciji `popolno` in `n` je neka številka (najprej 1, naslednjič bo 2 in tako naprej). Že takoj, v prvi vrstici skoči izvajanje v funkcijo `delitelji`. Ta sestavi seznam deliteljev in ga vrne - tistemu, ki jo je poklical, funkciji `popolno`. Nato se nadaljuje izvajanje funkcije `popolno`: ta v naslednji vrsti pokliče funkcijo `vsota`. Funkcija `vsota` izračuna in vrne vsoto. Spet smo v funkciji `popolno`, ki izračuna vrednost izraza `v == n`; vrednost izraza je `True` ali `False`. Funkcija `popolno` ga vrne tistemu, ki jo je klical, se pravi oni zanki na koncu skripte. Če je rezultat `True`, dodamo število v seznam, sicer ne.\n",
    "\n",
    "Ta program je lep zato, ker je pregleden. Razdelili smo ga na tri funkcije, vsaka opravlja svoje delo. Ko pišemo eno funkcijo, se ne ukvarjamo s celo sliko, temveč le s tem, kar počne ta funkcija. Če mislimo le na eno stvar naenkrat, nam bo lažje programirati in manj se bomo motili.\n",
    "\n",
    "\n",
    "## Rezultat sredi funkcije\n",
    "-----------------------\n",
    "\n",
    "Napišimo funkcijo, ki pove, ali je dano število praštevilo. Vrnila bo `True` (je) ali `False` (ni).\n",
    "\n",
    "Prejšnjič smo videli, da lahko zanko prekinemo z `break`. Prekinemo jo lahko tudi z `return`."
   ]
  },
  {
   "cell_type": "code",
   "execution_count": 34,
   "metadata": {},
   "outputs": [],
   "source": [
    "def prastevilo(n):\n",
    "    for i in range(2, n):\n",
    "        if n % i == 0:\n",
    "            return False\n",
    "    return True"
   ]
  },
  {
   "cell_type": "markdown",
   "metadata": {},
   "source": [
    "Prvi `return` je znotraj stavka `if`. Če odkrijemo, da kakšno število med 2 in n-1 deli n (se pravi, če je ostanek po deljenju `n` z `i` enak 0), dano število ni praštevilo in vrnemo `False`. S tem se izvajanje funkcije prekine, funkcija vrne rezultat in konec. Nobenega `break` ali česa podobnega ne potrebujemo. `return` vedno konča izvajanje funkcije. Do drugega `return`a tako pridemo le, če se ni izvedel prvi `return`. To pa seveda pomeni, da ni bilo nobenega števila, ki bi delilo dano število `n`.\n",
    "\n",
    "Kot so odkrili študenti, funkcija meni, da je 1 praštevilo. To počne iz [zgodovinskih razlogov](https://en.wikipedia.org/wiki/Prime_number#Primality_of_one). Če funkcija vrne `False`, si bo še kdo mislil, da je 1 sestavljeno število, ne? Če smo pripravljeni tvegati, pa lahko funkcijo popravimo tako"
   ]
  },
  {
   "cell_type": "code",
   "execution_count": 35,
   "metadata": {},
   "outputs": [],
   "source": [
    "def prastevilo(n):\n",
    "    if n == 1:\n",
    "        return False\n",
    "    for i in range(2, n):\n",
    "        if n % i == 0:\n",
    "            return False\n",
    "    return True"
   ]
  },
  {
   "cell_type": "markdown",
   "metadata": {},
   "source": [
    "ali pa celo tako"
   ]
  },
  {
   "cell_type": "code",
   "execution_count": 36,
   "metadata": {},
   "outputs": [],
   "source": [
    "def prastevilo(n):\n",
    "    for i in range(2, n):\n",
    "        if n % i == 0:\n",
    "            return False\n",
    "    return n != 1"
   ]
  },
  {
   "cell_type": "markdown",
   "metadata": {},
   "source": [
    "V drugi različici se zanka for ne bo izvedla nikoli, torej ne bo vrnila `False`, `return` na koncu pa bo vrnil `True` le, če število ni 1.\n",
    "\n",
    "## Funkcije (navadno) vračajo rezultate, ne izpisujejo\n",
    "\n",
    "Iz neznanega razloga so študentom - kot opažam na izpitih in v domačih nalogah - veliko bolj pri srcu funkcije, ki nekaj izpišejo, kot funkcije, ki vračajo rezultat. Tako bi jih mikalo, recimo, funkcijo za `vsoto` napisati tako, da bi na koncu namesto `return v` pisalo `print(v)`.\n",
    "\n",
    "Vendar to ni prav! S takšno funkcijo si nimamo kaj pomagati! Ne potrebujemo funkcije, ki *izpiše* vsoto; potrebujemo funkcijo, ki *vrne* vsoto, da bomo lahko s to vsoto še kaj počeli. Če jo bomo hoteli izpisati, bomo pač poklicali funkcijo in izpisali, kar vrne. Funkcija naj jo le izračuna. Si predstavljate, kako neuporabna bi bila funkcija `sin`, če bi le izpisala sinus, namesto da ga vrne? Bi si lahko pri programiranju topov z njo sploh kaj pomagali?\n",
    "\n",
    "To seveda ne pomeni, da funkcije ne smejo ničesar izpisovati. Smejo; nekatere so pač namenjene temu. Najbolj očiten primer takšne funkcije je očitno kar `print`.\n",
    "\n",
    "## Funkcije, ki ne vračajo ničesar\n",
    "\n",
    "Vse funkcije v Pythonu vračajo rezultat. Če funkcija ne vrača ničesar, vrača nič, torej `None`. To se bo zgodilo, kadar funkcija nima `return` ali kadar se ta ne izvede.\n",
    "\n",
    "Napišimo, na primer, funkcijo, ki kot argument dobi seznam in vrne prvo sodo število v njem."
   ]
  },
  {
   "cell_type": "code",
   "execution_count": 37,
   "metadata": {},
   "outputs": [],
   "source": [
    "def prvo_sodo(s):\n",
    "    for e in s:\n",
    "        if e % 2 == 0:\n",
    "            return e"
   ]
  },
  {
   "cell_type": "markdown",
   "metadata": {},
   "source": [
    "In zdaj jo preskusimo."
   ]
  },
  {
   "cell_type": "code",
   "execution_count": 38,
   "metadata": {},
   "outputs": [
    {
     "name": "stdout",
     "output_type": "stream",
     "text": [
      "2\n"
     ]
    }
   ],
   "source": [
    "print(prvo_sodo([1, 2, 3, 4, 5]))"
   ]
  },
  {
   "cell_type": "code",
   "execution_count": 39,
   "metadata": {},
   "outputs": [
    {
     "name": "stdout",
     "output_type": "stream",
     "text": [
      "None\n"
     ]
    }
   ],
   "source": [
    "print(prvo_sodo([1, 3, 5]))"
   ]
  },
  {
   "cell_type": "markdown",
   "metadata": {},
   "source": [
    "Prvi klic je jasen: funkcija vrne 2. V drugem primeru pa nikoli ne pride do `return`a, zato funkcija pač ne vrne ničesar. Ko smo jo poklicali, se tudi ni nič izpisalo, saj Python, kadar ga poganjamo v načinu za čvekanje, ne izpiše `None` ... razen, kadar ga k temu prisilimo s `print`, kot smo storili v zadnji vrstici.\n",
    "\n",
    "Konstanta `None` se šteje za neresnično. To je praktično, saj jo lahko uporabljamo v pogojnih stavkih. Imejmo nek seznam `s` in izpišimo prvo sodo število ali pa povejmo, da v seznamu ni sodih števil."
   ]
  },
  {
   "cell_type": "code",
   "execution_count": 40,
   "metadata": {},
   "outputs": [
    {
     "name": "stdout",
     "output_type": "stream",
     "text": [
      "V seznamu ni sodih števil.\n"
     ]
    }
   ],
   "source": [
    "sodo = prvo_sodo([1, 3, 5])\n",
    "if sodo:\n",
    "    print(\"Prvo sodo število je\", sodo)\n",
    "else:\n",
    "    print(\"V seznamu ni sodih števil.\")"
   ]
  },
  {
   "cell_type": "markdown",
   "metadata": {},
   "source": [
    "Vendar moramo biti pri takšnem početju majčkeno previdni. Kaj, če je prvo sodo število v seznamu 0? Ker je tudi 0 neresnično, bo program v tem primeru napisal, da ni sodih števil. Pravilno bi bilo torej"
   ]
  },
  {
   "cell_type": "code",
   "execution_count": 41,
   "metadata": {},
   "outputs": [
    {
     "name": "stdout",
     "output_type": "stream",
     "text": [
      "V seznamu ni sodih števil.\n"
     ]
    }
   ],
   "source": [
    "sodo = prvo_sodo([1, 3, 5])\n",
    "if sodo != None:\n",
    "    print(\"Prvo sodo število je\", sodo)\n",
    "else:\n",
    "    print(\"V seznamu ni sodih števil.\")"
   ]
  },
  {
   "cell_type": "markdown",
   "metadata": {},
   "source": [
    "Iz nekega razloga, ki ga bomo pojasnili čez dva tedna, pa običajno pišemo"
   ]
  },
  {
   "cell_type": "code",
   "execution_count": 42,
   "metadata": {},
   "outputs": [
    {
     "name": "stdout",
     "output_type": "stream",
     "text": [
      "V seznamu ni sodih števil.\n"
     ]
    }
   ],
   "source": [
    "sodo = prvo_sodo([1, 3, 5])\n",
    "if sodo is not None:\n",
    "    print(\"Prvo sodo število je\", sodo)\n",
    "else:\n",
    "    print(\"V seznamu ni sodih števil.\")"
   ]
  },
  {
   "cell_type": "markdown",
   "metadata": {},
   "source": [
    "Pa še nekaj iz lepopisa. Če pišemo funkcijo, ki nikoli ne vrne ničesar, pač ne napišemo `return`-a. Kadar funkcija včasih vrne rezultat, včasih pa vrne `None`, pa je vračanje `None` praviloma eksplicitno. Sicer bi lahko kdo, ki bere funkcijo, mislil, da v nekaterih primerih ne vrne ničesar, ker je programer pozabil na `return`. Lepo napisana funkcija `prvo_sodo` je torej"
   ]
  },
  {
   "cell_type": "code",
   "execution_count": 43,
   "metadata": {},
   "outputs": [],
   "source": [
    "def prvo_sodo(s):\n",
    "    for e in s:\n",
    "        if e % 2 == 0:\n",
    "            return e\n",
    "    return None"
   ]
  },
  {
   "cell_type": "markdown",
   "metadata": {},
   "source": [
    "## Več rezultatov\n",
    "\n",
    "Funkcija lahko vrača tudi \"več rezultatov\", tako kot tale funkcija, ki\n",
    "vrne, kvadrat in kub števila."
   ]
  },
  {
   "cell_type": "code",
   "execution_count": 44,
   "metadata": {},
   "outputs": [],
   "source": [
    "def kk(x):\n",
    "    return x ** 2, x ** 3"
   ]
  },
  {
   "cell_type": "markdown",
   "metadata": {},
   "source": [
    "Pokličemo jo lahko takole."
   ]
  },
  {
   "cell_type": "code",
   "execution_count": 45,
   "metadata": {},
   "outputs": [],
   "source": [
    "kvad, kub = kk(5)"
   ]
  },
  {
   "cell_type": "markdown",
   "metadata": {},
   "source": [
    "Pozoren študent je najbrž že spregledal: v resnici funkcija vrača en sam rezultat, namreč terko in ob klicu funkcije to terko razpakiramo. Vendar nam o tem, tehničnem vidiku zadeve, ni potrebno razmišljati. Mirno se lahko vedemo, kot da smo dobili dve vrednosti.\n",
    "\n",
    "V tem primeru navadno ne pišemo oklepajev okrog terk. Funkcija bo delovala tudi, če pišemo `return (x ** 2, x ** 3)`, vendar to ni običajen zapis za vračanje dveh vrednosti.\n",
    "\n",
    "## Več returnov\n",
    "\n",
    "Funkcija ima seveda lahko več `return`ov. Izvede se tisti, na katerega naleti. En primer smo že videli (določanje praštevilskosti). Naredimo še enega: funkcijo, ki vrne absolutno vrednost danega števila."
   ]
  },
  {
   "cell_type": "code",
   "execution_count": 46,
   "metadata": {},
   "outputs": [],
   "source": [
    "def abs(x):\n",
    "    if x < 0:\n",
    "        return -x\n",
    "    else:\n",
    "        return x"
   ]
  },
  {
   "cell_type": "markdown",
   "metadata": {},
   "source": [
    "Funkcija ima torej dva `return`. Eden se izvede, če je število negativno in drugi, če pozitivno.\n",
    "\n",
    "## Funkcije brez argumentov\n",
    "\n",
    "Funkcija je lahko tudi brez argumentov. Tule je funkcija, ki nima\n",
    "argumentov, vrne pa 42. Vedno."
   ]
  },
  {
   "cell_type": "code",
   "execution_count": 47,
   "metadata": {},
   "outputs": [],
   "source": [
    "def odgovor():\n",
    "    return 42"
   ]
  },
  {
   "cell_type": "markdown",
   "metadata": {},
   "source": [
    "Tako funkcijo je potrebno tudi poklicati brez argumentov - oklepajev pa vseeno ne smemo pozabiti."
   ]
  },
  {
   "cell_type": "code",
   "execution_count": 48,
   "metadata": {},
   "outputs": [
    {
     "data": {
      "text/plain": [
       "42"
      ]
     },
     "execution_count": 48,
     "metadata": {},
     "output_type": "execute_result"
    }
   ],
   "source": [
    "odgovor()"
   ]
  },
  {
   "cell_type": "markdown",
   "metadata": {},
   "source": [
    "Zdaj, ko znamo definirati funkcije, bo postalo naše življenje veliko lažje in preglednejše. Naši programi so, z vsem kar znamo, začeli postajati dolgi in razvlečeni. Zdaj jih bomo lahko razsekali v posamezne funkcije in se v njih tako lažje znašli."
   ]
  }
 ],
 "metadata": {
  "kernelspec": {
   "display_name": "Python 3",
   "language": "python",
   "name": "python3"
  },
  "language_info": {
   "codemirror_mode": {
    "name": "ipython",
    "version": 3
   },
   "file_extension": ".py",
   "mimetype": "text/x-python",
   "name": "python",
   "nbconvert_exporter": "python",
   "pygments_lexer": "ipython3",
   "version": "3.7.4"
  }
 },
 "nbformat": 4,
 "nbformat_minor": 5
}
