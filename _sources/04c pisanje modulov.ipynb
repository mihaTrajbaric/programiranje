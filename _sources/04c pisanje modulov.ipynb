{
 "cells": [
  {
   "cell_type": "markdown",
   "metadata": {},
   "source": [
    "## Kako pišemo module\n",
    "\n",
    "Napišimo program, ki bo vseboval konstanto `odgovor`, ki bo imela\n",
    "vrednost 42, in funkcijo, ki računa Fibonaccijeva števila.\n",
    "\n",
    "``` python\n",
    "odgovor = 42\n",
    "\n",
    "def fibonacci(n):\n",
    "    a = b = 0\n",
    "    for i in range(n):\n",
    "        a, b = b, a+b\n",
    "    return a\n",
    "```\n",
    "\n",
    "Program shranimo pod imenom fibo.py.\n",
    "\n",
    "To je to. V drugem programu lahko rečemo\n",
    "\n",
    "``` python\n",
    "import fibo\n",
    "print(\"Odgovor je\", fibo.odgovor)\n",
    "print(\"Deseto Fibonaccijevo število pa je\", fibo.fibonacci(10))\n",
    "```\n",
    "\n",
    "Tudi vse ostale finte, na primer, `from fibo import odgovor`, delujejo.\n",
    "\n",
    "Modul ni nič drugega kot program, ki ga uvozimo.\n",
    "\n",
    "Tudi vsi drugi programi, ki ste jih napisali doslej, so hkrati moduli:\n",
    "lahko jih uvozite. Pazite le na tole: ko modul uvozimo, se ta v resnici\n",
    "izvede, čisto tako, kot bi se izvajal program. Vse, kar se v tem\n",
    "programu-modulu definira, ostane definirano in se nahaja v modulovem\n",
    "imenskem prostoru. Vendar se zgodi tudi vse ostalo, kar piše v modulu:\n",
    "če pri izvajanju naleti na <code>print(“Foo”)</code> se bo ob uvozu\n",
    "modula izpisalo Foo. Če program-modul vsebuje klic funkcije (in ne le\n",
    "definicij), se bo ta funkcija poklicala tudi ob uvozu.\n",
    "\n",
    "Kje Python išče module? Navadno v trenutnem direktoriju, poleg tega pa\n",
    "še v drugih. Na Windowsih v, recimo, <code>c:-packages</code>. Več o tem\n",
    "si lahko preberete v dokumentaciji.\n",
    "\n",
    "Tudi sicer ne bomo rinili prav globoko v module, samo še eno stvar\n",
    "omenimo, da vas ne bo presenetila. Ko boste prvič uvozili modul, se bo\n",
    "poleg datoteke s končnico .py pojavila še ena, z enakim imenom, a\n",
    "končnico .pyc. Python si vanjo “prevede” (pravzaprav bi smeli pisati\n",
    "brez narekovajev, temu se v resnici reče prevajanje) v obliko, v kateri\n",
    "ga bo lahko naslednjič hitreje uvozil. Pri manjših modulih se to ne\n",
    "pozna, pri velikem številu velikih modulov pa. Če vas moti, jo lahko\n",
    "pobrišete; drugič se bo pač spet pojavila ponovno."
   ]
  },
  {
   "cell_type": "code",
   "execution_count": null,
   "metadata": {},
   "outputs": [],
   "source": []
  }
 ],
 "metadata": {
  "kernelspec": {
   "display_name": "Python 3",
   "language": "python",
   "name": "python3"
  },
  "language_info": {
   "codemirror_mode": {
    "name": "ipython",
    "version": 3
   },
   "file_extension": ".py",
   "mimetype": "text/x-python",
   "name": "python",
   "nbconvert_exporter": "python",
   "pygments_lexer": "ipython3",
   "version": "3.7.4"
  }
 },
 "nbformat": 4,
 "nbformat_minor": 5
}
