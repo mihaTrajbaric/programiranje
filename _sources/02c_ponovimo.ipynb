{
 "cells": [
  {
   "attachments": {},
   "cell_type": "markdown",
   "metadata": {},
   "source": [
    "# Ponovitev - osnove\n",
    "V času krožka smo vzeli že kar nekaj konstruktov in se naučili pisanja preprostih programov. Ker sem med reševanjem nalog opazil ponavljanje enakih osnovnih napak, je nastopil čas, da še enkrat ponovimo, kar smo se naučili do sedaj. Počitnice pretekli teden pa so še dodaten razlog, da še enkrat pogledamo, kaj vse imamo zaenkrat na voljo v našem programerskem arzenalu."
   ]
  },
  {
   "cell_type": "markdown",
   "metadata": {},
   "source": [
    "## Osnovne operacije\n",
    "Python lahko uporabljamo kot navaden kalkulator.\n",
    "```\n",
    ">>> (1 + 2 - 2) * 6 / 3\n",
    "2.0\n",
    "```\n",
    "**Navadno deljenje**\n",
    "```\n",
    ">>> 5 / 3\n",
    "1.6666666666666667\n",
    "```\n",
    "**Celoštevilsko deljenje**\n",
    "```\n",
    ">>> 5 // 3\n",
    "1\n",
    "```\n",
    "**Ostanek pri deljenju**\n",
    "```\n",
    ">>> 5 % 3\n",
    "2\n",
    "```\n",
    "**Potenciranje**\n",
    "```\n",
    ">>> 5 ** 2\n",
    "25\n",
    "```\n",
    "**Korenjenje** (potenciranje na 0.5)\n",
    "```\n",
    ">>> 4 ** 0.5\n",
    "2.0\n",
    "```\n",
    "\n"
   ]
  },
  {
   "cell_type": "markdown",
   "metadata": {},
   "source": [
    "## Podatkovni tipi\n",
    "Ko števila zapisujemo v računalniku, je važno, kakšnega tipa je podatek. Do sedaj smo spoznali **4 podatkovne tipe**. \\\n",
    "**int** -> cela števila\n",
    "```Python\n",
    ">>> 2 + 3\n",
    "5\n",
    ">>> type(2)\n",
    "int\n",
    "```\n",
    "**float** -> realna števila\n",
    "```Python\n",
    ">>> 4 / 3\n",
    "1.3333333333333333\n",
    ">>> type(0.5)\n",
    "float\n",
    "```\n",
    "**string** -> besedilo (nizi) -> enojni ali dvojni narekovaji\n",
    "```Python\n",
    ">>> \"Danes je lepo vreme\"\n",
    "'Danes je lepo vreme'\n",
    ">>> type(\"Danes\")\n",
    "str\n",
    "```\n",
    "**bool** -> logične vrednosti \n",
    "```Python\n",
    ">>> True and False\n",
    "True\n",
    ">>> type(True)\n",
    "bool\n",
    "```\n"
   ]
  },
  {
   "cell_type": "markdown",
   "metadata": {},
   "source": [
    "## Nekaj uporabnih funkcij\n",
    "\n",
    "`int(arg)`, `float(arg)`, `str(arg)`, `bool(arg)` -> pretvarjanje med podatkovnimi tipi\n",
    "\n",
    "```Python\n",
    ">>> int(2.0)\n",
    "2\n",
    ">>> float(\"2.34\")\n",
    "2.34\n",
    ">>> str(3232)\n",
    "'3232'\n",
    "```\n",
    "\n",
    "`round(stevilo, decimalk)` -> zaokroži število na podano število decimalk\n",
    "```Python\n",
    ">>> round(2.3456, 2)\n",
    "2.35\n",
    ">>> round(2.34343)\n",
    "2\n",
    "```\n",
    "\n",
    "`abs(st)` -> absolutna vrednost\n",
    "```Python\n",
    ">>> abs(-2)\n",
    "2\n",
    "```\n"
   ]
  },
  {
   "cell_type": "markdown",
   "metadata": {},
   "source": [
    "## Operacije na nizih\n",
    "`+` -> Lepljenje nizov\n",
    "```Python\n",
    ">>> \"Danes \" + \"je\" + \" lepo vreme\"\n",
    "'Danes je lepo vreme'\n",
    "```\n",
    "`*` -> ponavljanje niza\n",
    "```Python\n",
    ">>> \"ha\" * 3\n",
    "'hahaha'\n",
    "```"
   ]
  },
  {
   "cell_type": "markdown",
   "metadata": {},
   "source": [
    "## Spremenljivke\n",
    "Spremenljivko deklariramo / ji dodelimo vrednost, nato pa jo lahko pokličemo, ko želimo uporabiti vrednost.\n",
    "```Python\n",
    "# deklaracija\n",
    ">>> stevilo = 4\n",
    "\n",
    "# klic\n",
    ">>> stevilo\n",
    "4\n",
    "```\n",
    "Spremenljivko lahko nato uporabimo v računanju\n",
    "```\n",
    ">>> 5 + stevilo\n",
    "9\n",
    "```\n",
    "Vrednost lahko spreminjamo\n",
    "```\n",
    ">>> stevilo\n",
    "4\n",
    ">>> stevilo = 7\n",
    ">>> stevilo\n",
    "7\n",
    ">>> stevilo = stevilo + 5\n",
    ">>> stevilo\n",
    "12\n",
    "```"
   ]
  },
  {
   "cell_type": "markdown",
   "metadata": {},
   "source": [
    "## Print\n",
    "Vrednosti na zaslon prikažemo z ukazom `print()`"
   ]
  },
  {
   "cell_type": "code",
   "execution_count": 23,
   "metadata": {},
   "outputs": [
    {
     "name": "stdout",
     "output_type": "stream",
     "text": [
      "hello, world!\n"
     ]
    }
   ],
   "source": [
    "print(\"hello, world!\")"
   ]
  },
  {
   "cell_type": "markdown",
   "metadata": {},
   "source": [
    "Izraz znotraj printa se bo najprej poračunal, nato pa prikazal na zaslonu."
   ]
  },
  {
   "cell_type": "code",
   "execution_count": 24,
   "metadata": {},
   "outputs": [
    {
     "name": "stdout",
     "output_type": "stream",
     "text": [
      "5.666666666666667\n"
     ]
    }
   ],
   "source": [
    "print(4 + 5 / 3)"
   ]
  },
  {
   "cell_type": "markdown",
   "metadata": {},
   "source": [
    "Izpise lahko oblikujemo na dva načina. Prvi način je, da posamezne dele ločimo z vejico. Na ta način lahko tiskamo **različne podatkovne tipe**, vendar bo python vmes avtomatsko **dodal presledek**."
   ]
  },
  {
   "cell_type": "code",
   "execution_count": 26,
   "metadata": {},
   "outputs": [
    {
     "name": "stdout",
     "output_type": "stream",
     "text": [
      "Danes je 5 stopinj.\n"
     ]
    }
   ],
   "source": [
    "print(\"Danes\", \"je\", 5, \"stopinj.\")"
   ]
  },
  {
   "cell_type": "markdown",
   "metadata": {},
   "source": [
    "Če želimo več nadzora nad izpisom, uporabimo **lepljenje nizov**. Vsi elementi izpisa morajo biti tipa `str`, zato jih **ustrezno pretvorimo**."
   ]
  },
  {
   "cell_type": "code",
   "execution_count": 29,
   "metadata": {},
   "outputs": [
    {
     "name": "stdout",
     "output_type": "stream",
     "text": [
      "Danes je 5°C.\n"
     ]
    }
   ],
   "source": [
    "print(\"Danes \" + \"je \" + str(5) + \"°C.\")"
   ]
  },
  {
   "cell_type": "markdown",
   "metadata": {},
   "source": [
    "## Input\n",
    "Podatke od uporabnika dobimo z ukazom `input(prompt)`. Znotraj oklepajev napišemo **iztočnico**, ki se bo uporabniku prikazala na zaslonu. Kar dobimo, moramo nujno nato **shraniti v spremenljivko**."
   ]
  },
  {
   "cell_type": "code",
   "execution_count": 31,
   "metadata": {},
   "outputs": [
    {
     "name": "stdout",
     "output_type": "stream",
     "text": [
      "Vnesi svoje ime: Mihael\n"
     ]
    }
   ],
   "source": [
    "ime = input(\"Vnesi svoje ime: \")"
   ]
  },
  {
   "cell_type": "code",
   "execution_count": 32,
   "metadata": {},
   "outputs": [
    {
     "name": "stdout",
     "output_type": "stream",
     "text": [
      "Mihael\n"
     ]
    }
   ],
   "source": [
    "print(ime)"
   ]
  },
  {
   "cell_type": "markdown",
   "metadata": {},
   "source": [
    "Funkcija `input()` bo vedno podatke pridobila kot podatkovni tip `str`. Če pričakujemo število, moramo podatke ustrezno pretvoriti (`int()`, `float()`), drugače ne bomo mogli računati z njim. Največkrat to naredimo kar v isti vrstici, kot input:"
   ]
  },
  {
   "cell_type": "code",
   "execution_count": 36,
   "metadata": {},
   "outputs": [
    {
     "name": "stdout",
     "output_type": "stream",
     "text": [
      "Vnesi svojo letnico rojstva: 1950\n"
     ]
    }
   ],
   "source": [
    "letnica_rojstva = int(input(\"Vnesi svojo letnico rojstva: \"))"
   ]
  },
  {
   "cell_type": "code",
   "execution_count": 37,
   "metadata": {},
   "outputs": [
    {
     "name": "stdout",
     "output_type": "stream",
     "text": [
      "Star sem 72 let.\n"
     ]
    }
   ],
   "source": [
    "starost = 2022 - letnica_rojstva\n",
    "print(\"Star sem \" + str(starost) + \" let.\")"
   ]
  },
  {
   "cell_type": "markdown",
   "metadata": {},
   "source": [
    "\n",
    "## Primeri pogojev\n",
    "Pogoj je lahko katerikoli izraz, ki se evaluira v `bool` (logično vrednost).\n"
   ]
  },
  {
   "cell_type": "code",
   "execution_count": 63,
   "metadata": {},
   "outputs": [
    {
     "data": {
      "text/plain": [
       "True"
      ]
     },
     "execution_count": 63,
     "metadata": {},
     "output_type": "execute_result"
    }
   ],
   "source": [
    "# primerjanje < > <= >=\n",
    "4 < 5"
   ]
  },
  {
   "cell_type": "code",
   "execution_count": 62,
   "metadata": {},
   "outputs": [
    {
     "data": {
      "text/plain": [
       "True"
      ]
     },
     "execution_count": 62,
     "metadata": {},
     "output_type": "execute_result"
    }
   ],
   "source": [
    "# Pozor! Enakost preverjamo z dvojnim enačajem!\n",
    "# enakost == in neenakost !=\n",
    "4 == 4"
   ]
  },
  {
   "cell_type": "code",
   "execution_count": 1,
   "metadata": {},
   "outputs": [
    {
     "data": {
      "text/plain": [
       "True"
      ]
     },
     "execution_count": 1,
     "metadata": {},
     "output_type": "execute_result"
    }
   ],
   "source": [
    "# pogoje lahko zduzujemo s poljubnimi logičnimi vezniki\n",
    "# Logični vezniki: and, or, not\n",
    "a = 5\n",
    "a != 4 and True"
   ]
  },
  {
   "cell_type": "code",
   "execution_count": 2,
   "metadata": {},
   "outputs": [
    {
     "data": {
      "text/plain": [
       "True"
      ]
     },
     "execution_count": 2,
     "metadata": {},
     "output_type": "execute_result"
    }
   ],
   "source": [
    "# Lahko preverjamo tudi več neenakosti hkrati\n",
    "a = 5\n",
    "3 < a < 6"
   ]
  },
  {
   "cell_type": "markdown",
   "metadata": {},
   "source": [
    "## Pogojni stavek\n",
    "\n",
    "S pogojnim stavkom lahko v program dodamo pogoje. Kodo, ki se izvede pod določenim pogojem, moramo zamakniti za 4 presledke ali tabulator (vendar znotraj programa teh dveh ne mešamo!)"
   ]
  },
  {
   "cell_type": "code",
   "execution_count": 39,
   "metadata": {},
   "outputs": [
    {
     "name": "stdout",
     "output_type": "stream",
     "text": [
      "Najstnik\n"
     ]
    }
   ],
   "source": [
    "starost = 15\n",
    "if 10 < starost < 20:\n",
    "    print(\"Najstnik\")"
   ]
  },
  {
   "cell_type": "markdown",
   "metadata": {},
   "source": [
    "Dodamo lahko tudi `else` del, ki se izvede, če pogoj ni izpolnjen:"
   ]
  },
  {
   "cell_type": "code",
   "execution_count": 40,
   "metadata": {},
   "outputs": [
    {
     "name": "stdout",
     "output_type": "stream",
     "text": [
      "Očitno nisi najstnik\n"
     ]
    }
   ],
   "source": [
    "starost = 21\n",
    "if 10 < starost < 20:\n",
    "    print(\"Najstnik\")\n",
    "else:\n",
    "    print(\"Očitno nisi najstnik\")"
   ]
  },
  {
   "cell_type": "markdown",
   "metadata": {},
   "source": [
    "Preverjamo lahko tudi več različnih možnosti. Prvo začnemo z `if`, naslednje z `elif`, če pa noben pogoj ni izpolnjen, pa zaključimo z `else`:"
   ]
  },
  {
   "cell_type": "code",
   "execution_count": 43,
   "metadata": {},
   "outputs": [
    {
     "name": "stdout",
     "output_type": "stream",
     "text": [
      "mijav!\n"
     ]
    }
   ],
   "source": [
    "zival = \"mačka\"\n",
    "if zival == 'pes':\n",
    "    print(\"hov hov!\")\n",
    "elif zival == \"mačka\":\n",
    "    print(\"mijav!\")\n",
    "elif zival == \"konj\":\n",
    "    print(\"ihaha\")\n",
    "else:\n",
    "    print(\"Ne poznam živali!\")"
   ]
  },
  {
   "cell_type": "markdown",
   "metadata": {},
   "source": [
    "Pogoje lahko tudi gnezdimo"
   ]
  },
  {
   "cell_type": "code",
   "execution_count": 44,
   "metadata": {},
   "outputs": [
    {
     "name": "stdout",
     "output_type": "stream",
     "text": [
      "najstnik\n"
     ]
    }
   ],
   "source": [
    "starost = 17\n",
    "if  starost < 20:\n",
    "    if starost > 10:\n",
    "        print(\"najstnik\")\n",
    "    else:\n",
    "        print(\"otrok\")\n",
    "else:\n",
    "    print(\"ne najstnik, ne otrok\")"
   ]
  },
  {
   "cell_type": "markdown",
   "metadata": {},
   "source": [
    "## Zanka while\n",
    "Z zanko lahko dosežemo, da se del kode nekajkrat **ponovi** ali pa se **ponavalja, dokler je pogoj izpolnjen**. Spodaj je nekaj primerov uporabe.\n",
    "\n",
    "Dostikrat zanko uporabimo skupaj s **števcem**, ki ga poimenujemo `i`. Tega nato uporabimo v **pogoju**. Znotraj zanke ga tudi povečamo / zmanjšamo.\n",
    "\n",
    "> števec lahko povečamo `i = i + 1` ali krajše `i += 1`. Okrajšava deluje za vse osnovne operacije (`i -= 1`, `i *= 1`, `i /= 1`, `i //= 1` `i %= 1 `)\n"
   ]
  },
  {
   "cell_type": "markdown",
   "metadata": {},
   "source": [
    "\n",
    "### Petkrat ponovimo `print()`:"
   ]
  },
  {
   "cell_type": "code",
   "execution_count": 45,
   "metadata": {},
   "outputs": [
    {
     "name": "stdout",
     "output_type": "stream",
     "text": [
      "hej\n",
      "hej\n",
      "hej\n",
      "hej\n",
      "hej\n"
     ]
    }
   ],
   "source": [
    "i = 0\n",
    "while i < 5:\n",
    "    print(\"hej\")\n",
    "    i += 1"
   ]
  },
  {
   "cell_type": "markdown",
   "metadata": {},
   "source": [
    "### Štetje od 1 do 10"
   ]
  },
  {
   "cell_type": "code",
   "execution_count": 47,
   "metadata": {},
   "outputs": [
    {
     "name": "stdout",
     "output_type": "stream",
     "text": [
      "1\n",
      "2\n",
      "3\n",
      "4\n",
      "5\n",
      "6\n",
      "7\n",
      "8\n",
      "9\n",
      "10\n"
     ]
    }
   ],
   "source": [
    "i = 1\n",
    "while i <= 10:\n",
    "    print(i)\n",
    "    i += 1"
   ]
  },
  {
   "cell_type": "markdown",
   "metadata": {},
   "source": [
    "### Seštevanje števil\n",
    "Recimo da nam uporabnik poda 5 števil, mi pa jih moramo sešteti. Kako bi naredili to? **Izven zanke** definiramo spremenljivko vsota. Zanko moramo izvesti *5x*, pri čemer v vsaki iteraciji od uporabnika dobimo nov *input*.  Trenutni input prištejemo vsoti. Na koncu natisnemo rezultat."
   ]
  },
  {
   "cell_type": "code",
   "execution_count": 51,
   "metadata": {},
   "outputs": [
    {
     "name": "stdout",
     "output_type": "stream",
     "text": [
      "Vnesi število: 2\n",
      "Vnesi število: 3\n",
      "Vnesi število: 4\n",
      "Vnesi število: 5\n",
      "Vnesi število: 2\n",
      "Vsota je 16\n"
     ]
    }
   ],
   "source": [
    "vsota = 0\n",
    "i = 0\n",
    "while i < 5:\n",
    "    st = int(input(\"Vnesi število: \"))\n",
    "    vsota += st\n",
    "    i += 1\n",
    "print(\"Vsota je\", vsota)"
   ]
  },
  {
   "cell_type": "markdown",
   "metadata": {},
   "source": [
    "### Računanje povprečja\n",
    "Kako bi izračunali povprečje? Povprečje je v resnici vsota, deljena s številom elementov, ki smo jih sešteli. Kot v prejšnjem primeru z zanko seštejemo elemente, nato pa vsoto delimo s številom elementov."
   ]
  },
  {
   "cell_type": "code",
   "execution_count": 52,
   "metadata": {},
   "outputs": [
    {
     "name": "stdout",
     "output_type": "stream",
     "text": [
      "Vnesi število: 2\n",
      "Vnesi število: 4\n",
      "Vnesi število: 6\n",
      "Povprečje: 4.0\n"
     ]
    }
   ],
   "source": [
    "st_elementov = 3\n",
    "vsota = 0\n",
    "i = 0\n",
    "while i < st_elementov:\n",
    "    vsota += int(input(\"Vnesi število: \"))\n",
    "    i += 1\n",
    "povprecje = vsota / st_elementov\n",
    "print(\"Povprečje:\", povprecje)"
   ]
  },
  {
   "cell_type": "markdown",
   "metadata": {},
   "source": [
    "### Izpis lihih števil\n",
    "Z zanko se bomo sprehodili čez števila, če bo trenutno število liho, ga izpišemo."
   ]
  },
  {
   "cell_type": "code",
   "execution_count": 55,
   "metadata": {},
   "outputs": [
    {
     "name": "stdout",
     "output_type": "stream",
     "text": [
      "1\n",
      "3\n",
      "5\n",
      "7\n",
      "9\n"
     ]
    }
   ],
   "source": [
    "i = 0\n",
    "while i < 10:\n",
    "    if i % 2 == 1:\n",
    "        print(i)\n",
    "    i += 1\n"
   ]
  }
 ],
 "metadata": {
  "kernelspec": {
   "display_name": "Python 3.10.6 64-bit",
   "language": "python",
   "name": "python3"
  },
  "language_info": {
   "codemirror_mode": {
    "name": "ipython",
    "version": 3
   },
   "file_extension": ".py",
   "mimetype": "text/x-python",
   "name": "python",
   "nbconvert_exporter": "python",
   "pygments_lexer": "ipython3",
   "version": "3.10.6"
  },
  "orig_nbformat": 4,
  "vscode": {
   "interpreter": {
    "hash": "e7370f93d1d0cde622a1f8e1c04877d8463912d04d973331ad4851f04de6915a"
   }
  }
 },
 "nbformat": 4,
 "nbformat_minor": 2
}
