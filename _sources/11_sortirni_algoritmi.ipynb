{
 "cells": [
  {
   "attachments": {},
   "cell_type": "markdown",
   "metadata": {},
   "source": [
    "# Sortirni algoritmi\n",
    "\n",
    "Na krožku smo sledili tutorialu [Real Python: Sorting Algorithms in Python](https://realpython.com/sorting-algorithms-python), koda iz ure pa je dostopna na [GitHub repozitoriju](https://github.com/programiranje-SKG/projekti/blob/main/sorting/algoritmi.py)."
   ]
  }
 ],
 "metadata": {
  "language_info": {
   "name": "python"
  },
  "orig_nbformat": 4
 },
 "nbformat": 4,
 "nbformat_minor": 2
}
